{
  "nbformat": 4,
  "nbformat_minor": 0,
  "metadata": {
    "colab": {
      "name": "pandas_practice.ipynb",
      "provenance": [],
      "authorship_tag": "ABX9TyNzkRQuV6sCI1TxnTd+ehCv",
      "include_colab_link": true
    },
    "kernelspec": {
      "name": "python3",
      "display_name": "Python 3"
    },
    "language_info": {
      "name": "python"
    }
  },
  "cells": [
    {
      "cell_type": "markdown",
      "metadata": {
        "id": "view-in-github",
        "colab_type": "text"
      },
      "source": [
        "<a href=\"https://colab.research.google.com/github/Hemang14/Hemang_Singh_Python_course/blob/main/pandas_practice.ipynb\" target=\"_parent\"><img src=\"https://colab.research.google.com/assets/colab-badge.svg\" alt=\"Open In Colab\"/></a>"
      ]
    },
    {
      "cell_type": "code",
      "metadata": {
        "id": "6MTfLiI0DXWg"
      },
      "source": [
        "import numpy as np\n",
        "import pandas as pd"
      ],
      "execution_count": 2,
      "outputs": []
    },
    {
      "cell_type": "code",
      "metadata": {
        "colab": {
          "base_uri": "https://localhost:8080/"
        },
        "id": "HCZCBZ4FEWcu",
        "outputId": "e4bd548f-38fb-471f-cec0-276368e5aa56"
      },
      "source": [
        "s=pd.Series([1,3,5,np.nan,6,8])\n",
        "s"
      ],
      "execution_count": 3,
      "outputs": [
        {
          "output_type": "execute_result",
          "data": {
            "text/plain": [
              "0    1.0\n",
              "1    3.0\n",
              "2    5.0\n",
              "3    NaN\n",
              "4    6.0\n",
              "5    8.0\n",
              "dtype: float64"
            ]
          },
          "metadata": {},
          "execution_count": 3
        }
      ]
    },
    {
      "cell_type": "code",
      "metadata": {
        "colab": {
          "base_uri": "https://localhost:8080/"
        },
        "id": "Zc_5mfEvEW2u",
        "outputId": "1e26f95f-4cd2-45dc-c6cc-fc0305402a33"
      },
      "source": [
        "dates = pd.date_range(\"20130101\",periods=6)\n",
        "dates"
      ],
      "execution_count": 6,
      "outputs": [
        {
          "output_type": "execute_result",
          "data": {
            "text/plain": [
              "DatetimeIndex(['2013-01-01', '2013-01-02', '2013-01-03', '2013-01-04',\n",
              "               '2013-01-05', '2013-01-06'],\n",
              "              dtype='datetime64[ns]', freq='D')"
            ]
          },
          "metadata": {},
          "execution_count": 6
        }
      ]
    },
    {
      "cell_type": "code",
      "metadata": {
        "colab": {
          "base_uri": "https://localhost:8080/",
          "height": 237
        },
        "id": "MbzHpyckEYqQ",
        "outputId": "ae4ae193-e5ac-412a-9692-2b1a389cd5fe"
      },
      "source": [
        "df = pd.DataFrame(np.random.randn(6,4),index=dates,columns=list(\"ABCD\"))\n",
        "df"
      ],
      "execution_count": 8,
      "outputs": [
        {
          "output_type": "execute_result",
          "data": {
            "text/html": [
              "<div>\n",
              "<style scoped>\n",
              "    .dataframe tbody tr th:only-of-type {\n",
              "        vertical-align: middle;\n",
              "    }\n",
              "\n",
              "    .dataframe tbody tr th {\n",
              "        vertical-align: top;\n",
              "    }\n",
              "\n",
              "    .dataframe thead th {\n",
              "        text-align: right;\n",
              "    }\n",
              "</style>\n",
              "<table border=\"1\" class=\"dataframe\">\n",
              "  <thead>\n",
              "    <tr style=\"text-align: right;\">\n",
              "      <th></th>\n",
              "      <th>A</th>\n",
              "      <th>B</th>\n",
              "      <th>C</th>\n",
              "      <th>D</th>\n",
              "    </tr>\n",
              "  </thead>\n",
              "  <tbody>\n",
              "    <tr>\n",
              "      <th>2013-01-01</th>\n",
              "      <td>1.292115</td>\n",
              "      <td>0.289799</td>\n",
              "      <td>-0.723365</td>\n",
              "      <td>-0.893310</td>\n",
              "    </tr>\n",
              "    <tr>\n",
              "      <th>2013-01-02</th>\n",
              "      <td>0.440916</td>\n",
              "      <td>-0.427367</td>\n",
              "      <td>1.447762</td>\n",
              "      <td>0.494468</td>\n",
              "    </tr>\n",
              "    <tr>\n",
              "      <th>2013-01-03</th>\n",
              "      <td>1.177105</td>\n",
              "      <td>-1.011475</td>\n",
              "      <td>-0.700117</td>\n",
              "      <td>-0.546313</td>\n",
              "    </tr>\n",
              "    <tr>\n",
              "      <th>2013-01-04</th>\n",
              "      <td>0.286293</td>\n",
              "      <td>1.291865</td>\n",
              "      <td>0.031089</td>\n",
              "      <td>0.245547</td>\n",
              "    </tr>\n",
              "    <tr>\n",
              "      <th>2013-01-05</th>\n",
              "      <td>0.216061</td>\n",
              "      <td>0.940865</td>\n",
              "      <td>0.342491</td>\n",
              "      <td>0.803081</td>\n",
              "    </tr>\n",
              "    <tr>\n",
              "      <th>2013-01-06</th>\n",
              "      <td>2.581673</td>\n",
              "      <td>-2.173397</td>\n",
              "      <td>0.110774</td>\n",
              "      <td>0.275783</td>\n",
              "    </tr>\n",
              "  </tbody>\n",
              "</table>\n",
              "</div>"
            ],
            "text/plain": [
              "                   A         B         C         D\n",
              "2013-01-01  1.292115  0.289799 -0.723365 -0.893310\n",
              "2013-01-02  0.440916 -0.427367  1.447762  0.494468\n",
              "2013-01-03  1.177105 -1.011475 -0.700117 -0.546313\n",
              "2013-01-04  0.286293  1.291865  0.031089  0.245547\n",
              "2013-01-05  0.216061  0.940865  0.342491  0.803081\n",
              "2013-01-06  2.581673 -2.173397  0.110774  0.275783"
            ]
          },
          "metadata": {},
          "execution_count": 8
        }
      ]
    },
    {
      "cell_type": "code",
      "metadata": {
        "colab": {
          "base_uri": "https://localhost:8080/",
          "height": 175
        },
        "id": "EQ3-d9aNEdUf",
        "outputId": "4b292b18-a6c0-4366-c597-736f2a1db320"
      },
      "source": [
        "df2 = pd.DataFrame({\"A\":1.0,\"B\":pd.Timestamp(\"20130102\"),\"C\":pd.Series(1,index=list(range(4)),dtype=\"float32\"),\"D\":np.array([3]*4,dtype=\"int32\"),\"E\":pd.Categorical([\"test\",\"train\",\"test\",\"train\"]),\"F\":\"foo\"})\n",
        "df2"
      ],
      "execution_count": 10,
      "outputs": [
        {
          "output_type": "execute_result",
          "data": {
            "text/html": [
              "<div>\n",
              "<style scoped>\n",
              "    .dataframe tbody tr th:only-of-type {\n",
              "        vertical-align: middle;\n",
              "    }\n",
              "\n",
              "    .dataframe tbody tr th {\n",
              "        vertical-align: top;\n",
              "    }\n",
              "\n",
              "    .dataframe thead th {\n",
              "        text-align: right;\n",
              "    }\n",
              "</style>\n",
              "<table border=\"1\" class=\"dataframe\">\n",
              "  <thead>\n",
              "    <tr style=\"text-align: right;\">\n",
              "      <th></th>\n",
              "      <th>A</th>\n",
              "      <th>B</th>\n",
              "      <th>C</th>\n",
              "      <th>D</th>\n",
              "      <th>E</th>\n",
              "      <th>F</th>\n",
              "    </tr>\n",
              "  </thead>\n",
              "  <tbody>\n",
              "    <tr>\n",
              "      <th>0</th>\n",
              "      <td>1.0</td>\n",
              "      <td>2013-01-02</td>\n",
              "      <td>1.0</td>\n",
              "      <td>3</td>\n",
              "      <td>test</td>\n",
              "      <td>foo</td>\n",
              "    </tr>\n",
              "    <tr>\n",
              "      <th>1</th>\n",
              "      <td>1.0</td>\n",
              "      <td>2013-01-02</td>\n",
              "      <td>1.0</td>\n",
              "      <td>3</td>\n",
              "      <td>train</td>\n",
              "      <td>foo</td>\n",
              "    </tr>\n",
              "    <tr>\n",
              "      <th>2</th>\n",
              "      <td>1.0</td>\n",
              "      <td>2013-01-02</td>\n",
              "      <td>1.0</td>\n",
              "      <td>3</td>\n",
              "      <td>test</td>\n",
              "      <td>foo</td>\n",
              "    </tr>\n",
              "    <tr>\n",
              "      <th>3</th>\n",
              "      <td>1.0</td>\n",
              "      <td>2013-01-02</td>\n",
              "      <td>1.0</td>\n",
              "      <td>3</td>\n",
              "      <td>train</td>\n",
              "      <td>foo</td>\n",
              "    </tr>\n",
              "  </tbody>\n",
              "</table>\n",
              "</div>"
            ],
            "text/plain": [
              "     A          B    C  D      E    F\n",
              "0  1.0 2013-01-02  1.0  3   test  foo\n",
              "1  1.0 2013-01-02  1.0  3  train  foo\n",
              "2  1.0 2013-01-02  1.0  3   test  foo\n",
              "3  1.0 2013-01-02  1.0  3  train  foo"
            ]
          },
          "metadata": {},
          "execution_count": 10
        }
      ]
    },
    {
      "cell_type": "code",
      "metadata": {
        "colab": {
          "base_uri": "https://localhost:8080/"
        },
        "id": "YAa0okYvEgPT",
        "outputId": "18bbb304-0584-477e-fdb3-418bcf96ea65"
      },
      "source": [
        "df2.dtypes"
      ],
      "execution_count": 11,
      "outputs": [
        {
          "output_type": "execute_result",
          "data": {
            "text/plain": [
              "A           float64\n",
              "B    datetime64[ns]\n",
              "C           float32\n",
              "D             int32\n",
              "E          category\n",
              "F            object\n",
              "dtype: object"
            ]
          },
          "metadata": {},
          "execution_count": 11
        }
      ]
    },
    {
      "cell_type": "code",
      "metadata": {
        "colab": {
          "base_uri": "https://localhost:8080/",
          "height": 206
        },
        "id": "C2AlIF3YEjf4",
        "outputId": "6a9fe64d-6c24-4b35-a729-949be271051c"
      },
      "source": [
        "df.head()"
      ],
      "execution_count": 12,
      "outputs": [
        {
          "output_type": "execute_result",
          "data": {
            "text/html": [
              "<div>\n",
              "<style scoped>\n",
              "    .dataframe tbody tr th:only-of-type {\n",
              "        vertical-align: middle;\n",
              "    }\n",
              "\n",
              "    .dataframe tbody tr th {\n",
              "        vertical-align: top;\n",
              "    }\n",
              "\n",
              "    .dataframe thead th {\n",
              "        text-align: right;\n",
              "    }\n",
              "</style>\n",
              "<table border=\"1\" class=\"dataframe\">\n",
              "  <thead>\n",
              "    <tr style=\"text-align: right;\">\n",
              "      <th></th>\n",
              "      <th>A</th>\n",
              "      <th>B</th>\n",
              "      <th>C</th>\n",
              "      <th>D</th>\n",
              "    </tr>\n",
              "  </thead>\n",
              "  <tbody>\n",
              "    <tr>\n",
              "      <th>2013-01-01</th>\n",
              "      <td>1.292115</td>\n",
              "      <td>0.289799</td>\n",
              "      <td>-0.723365</td>\n",
              "      <td>-0.893310</td>\n",
              "    </tr>\n",
              "    <tr>\n",
              "      <th>2013-01-02</th>\n",
              "      <td>0.440916</td>\n",
              "      <td>-0.427367</td>\n",
              "      <td>1.447762</td>\n",
              "      <td>0.494468</td>\n",
              "    </tr>\n",
              "    <tr>\n",
              "      <th>2013-01-03</th>\n",
              "      <td>1.177105</td>\n",
              "      <td>-1.011475</td>\n",
              "      <td>-0.700117</td>\n",
              "      <td>-0.546313</td>\n",
              "    </tr>\n",
              "    <tr>\n",
              "      <th>2013-01-04</th>\n",
              "      <td>0.286293</td>\n",
              "      <td>1.291865</td>\n",
              "      <td>0.031089</td>\n",
              "      <td>0.245547</td>\n",
              "    </tr>\n",
              "    <tr>\n",
              "      <th>2013-01-05</th>\n",
              "      <td>0.216061</td>\n",
              "      <td>0.940865</td>\n",
              "      <td>0.342491</td>\n",
              "      <td>0.803081</td>\n",
              "    </tr>\n",
              "  </tbody>\n",
              "</table>\n",
              "</div>"
            ],
            "text/plain": [
              "                   A         B         C         D\n",
              "2013-01-01  1.292115  0.289799 -0.723365 -0.893310\n",
              "2013-01-02  0.440916 -0.427367  1.447762  0.494468\n",
              "2013-01-03  1.177105 -1.011475 -0.700117 -0.546313\n",
              "2013-01-04  0.286293  1.291865  0.031089  0.245547\n",
              "2013-01-05  0.216061  0.940865  0.342491  0.803081"
            ]
          },
          "metadata": {},
          "execution_count": 12
        }
      ]
    },
    {
      "cell_type": "code",
      "metadata": {
        "colab": {
          "base_uri": "https://localhost:8080/",
          "height": 143
        },
        "id": "BTyAN8ylElBg",
        "outputId": "bb85e66e-6920-45b4-a418-84dcb39b1cda"
      },
      "source": [
        "df.tail(3)"
      ],
      "execution_count": 13,
      "outputs": [
        {
          "output_type": "execute_result",
          "data": {
            "text/html": [
              "<div>\n",
              "<style scoped>\n",
              "    .dataframe tbody tr th:only-of-type {\n",
              "        vertical-align: middle;\n",
              "    }\n",
              "\n",
              "    .dataframe tbody tr th {\n",
              "        vertical-align: top;\n",
              "    }\n",
              "\n",
              "    .dataframe thead th {\n",
              "        text-align: right;\n",
              "    }\n",
              "</style>\n",
              "<table border=\"1\" class=\"dataframe\">\n",
              "  <thead>\n",
              "    <tr style=\"text-align: right;\">\n",
              "      <th></th>\n",
              "      <th>A</th>\n",
              "      <th>B</th>\n",
              "      <th>C</th>\n",
              "      <th>D</th>\n",
              "    </tr>\n",
              "  </thead>\n",
              "  <tbody>\n",
              "    <tr>\n",
              "      <th>2013-01-04</th>\n",
              "      <td>0.286293</td>\n",
              "      <td>1.291865</td>\n",
              "      <td>0.031089</td>\n",
              "      <td>0.245547</td>\n",
              "    </tr>\n",
              "    <tr>\n",
              "      <th>2013-01-05</th>\n",
              "      <td>0.216061</td>\n",
              "      <td>0.940865</td>\n",
              "      <td>0.342491</td>\n",
              "      <td>0.803081</td>\n",
              "    </tr>\n",
              "    <tr>\n",
              "      <th>2013-01-06</th>\n",
              "      <td>2.581673</td>\n",
              "      <td>-2.173397</td>\n",
              "      <td>0.110774</td>\n",
              "      <td>0.275783</td>\n",
              "    </tr>\n",
              "  </tbody>\n",
              "</table>\n",
              "</div>"
            ],
            "text/plain": [
              "                   A         B         C         D\n",
              "2013-01-04  0.286293  1.291865  0.031089  0.245547\n",
              "2013-01-05  0.216061  0.940865  0.342491  0.803081\n",
              "2013-01-06  2.581673 -2.173397  0.110774  0.275783"
            ]
          },
          "metadata": {},
          "execution_count": 13
        }
      ]
    },
    {
      "cell_type": "code",
      "metadata": {
        "colab": {
          "base_uri": "https://localhost:8080/"
        },
        "id": "zn4vzWuXEmav",
        "outputId": "d44a2b6d-590e-4eb4-a8d7-558505d6d5c8"
      },
      "source": [
        "df.index"
      ],
      "execution_count": 14,
      "outputs": [
        {
          "output_type": "execute_result",
          "data": {
            "text/plain": [
              "DatetimeIndex(['2013-01-01', '2013-01-02', '2013-01-03', '2013-01-04',\n",
              "               '2013-01-05', '2013-01-06'],\n",
              "              dtype='datetime64[ns]', freq='D')"
            ]
          },
          "metadata": {},
          "execution_count": 14
        }
      ]
    },
    {
      "cell_type": "code",
      "metadata": {
        "colab": {
          "base_uri": "https://localhost:8080/"
        },
        "id": "DDMSAUzuEnvA",
        "outputId": "010f51f1-ba06-4013-9291-9ea95393a0f7"
      },
      "source": [
        "df.columns"
      ],
      "execution_count": 15,
      "outputs": [
        {
          "output_type": "execute_result",
          "data": {
            "text/plain": [
              "Index(['A', 'B', 'C', 'D'], dtype='object')"
            ]
          },
          "metadata": {},
          "execution_count": 15
        }
      ]
    },
    {
      "cell_type": "code",
      "metadata": {
        "colab": {
          "base_uri": "https://localhost:8080/"
        },
        "id": "oIVQjYAKEpBq",
        "outputId": "bc1cca94-3efd-446f-a44d-672979529d3d"
      },
      "source": [
        "df.shape"
      ],
      "execution_count": 16,
      "outputs": [
        {
          "output_type": "execute_result",
          "data": {
            "text/plain": [
              "(6, 4)"
            ]
          },
          "metadata": {},
          "execution_count": 16
        }
      ]
    },
    {
      "cell_type": "code",
      "metadata": {
        "colab": {
          "base_uri": "https://localhost:8080/"
        },
        "id": "K2acgUtYE930",
        "outputId": "f05bae24-cea0-4aa3-a586-3f7e4155fe58"
      },
      "source": [
        "df.to_numpy()"
      ],
      "execution_count": 17,
      "outputs": [
        {
          "output_type": "execute_result",
          "data": {
            "text/plain": [
              "array([[ 1.29211496,  0.28979871, -0.723365  , -0.89330988],\n",
              "       [ 0.44091576, -0.42736654,  1.44776239,  0.49446815],\n",
              "       [ 1.17710511, -1.01147536, -0.70011712, -0.54631273],\n",
              "       [ 0.28629292,  1.2918654 ,  0.03108922,  0.24554658],\n",
              "       [ 0.21606122,  0.94086528,  0.34249145,  0.80308083],\n",
              "       [ 2.58167285, -2.17339677,  0.11077352,  0.27578293]])"
            ]
          },
          "metadata": {},
          "execution_count": 17
        }
      ]
    },
    {
      "cell_type": "code",
      "metadata": {
        "colab": {
          "base_uri": "https://localhost:8080/",
          "height": 300
        },
        "id": "iiJYM3jkE_DN",
        "outputId": "0ad0caaa-4a24-417e-9114-0f5718f7d089"
      },
      "source": [
        "df.describe()"
      ],
      "execution_count": 18,
      "outputs": [
        {
          "output_type": "execute_result",
          "data": {
            "text/html": [
              "<div>\n",
              "<style scoped>\n",
              "    .dataframe tbody tr th:only-of-type {\n",
              "        vertical-align: middle;\n",
              "    }\n",
              "\n",
              "    .dataframe tbody tr th {\n",
              "        vertical-align: top;\n",
              "    }\n",
              "\n",
              "    .dataframe thead th {\n",
              "        text-align: right;\n",
              "    }\n",
              "</style>\n",
              "<table border=\"1\" class=\"dataframe\">\n",
              "  <thead>\n",
              "    <tr style=\"text-align: right;\">\n",
              "      <th></th>\n",
              "      <th>A</th>\n",
              "      <th>B</th>\n",
              "      <th>C</th>\n",
              "      <th>D</th>\n",
              "    </tr>\n",
              "  </thead>\n",
              "  <tbody>\n",
              "    <tr>\n",
              "      <th>count</th>\n",
              "      <td>6.000000</td>\n",
              "      <td>6.000000</td>\n",
              "      <td>6.000000</td>\n",
              "      <td>6.000000</td>\n",
              "    </tr>\n",
              "    <tr>\n",
              "      <th>mean</th>\n",
              "      <td>0.999027</td>\n",
              "      <td>-0.181618</td>\n",
              "      <td>0.084772</td>\n",
              "      <td>0.063209</td>\n",
              "    </tr>\n",
              "    <tr>\n",
              "      <th>std</th>\n",
              "      <td>0.900544</td>\n",
              "      <td>1.293800</td>\n",
              "      <td>0.799607</td>\n",
              "      <td>0.647808</td>\n",
              "    </tr>\n",
              "    <tr>\n",
              "      <th>min</th>\n",
              "      <td>0.216061</td>\n",
              "      <td>-2.173397</td>\n",
              "      <td>-0.723365</td>\n",
              "      <td>-0.893310</td>\n",
              "    </tr>\n",
              "    <tr>\n",
              "      <th>25%</th>\n",
              "      <td>0.324949</td>\n",
              "      <td>-0.865448</td>\n",
              "      <td>-0.517316</td>\n",
              "      <td>-0.348348</td>\n",
              "    </tr>\n",
              "    <tr>\n",
              "      <th>50%</th>\n",
              "      <td>0.809010</td>\n",
              "      <td>-0.068784</td>\n",
              "      <td>0.070931</td>\n",
              "      <td>0.260665</td>\n",
              "    </tr>\n",
              "    <tr>\n",
              "      <th>75%</th>\n",
              "      <td>1.263363</td>\n",
              "      <td>0.778099</td>\n",
              "      <td>0.284562</td>\n",
              "      <td>0.439797</td>\n",
              "    </tr>\n",
              "    <tr>\n",
              "      <th>max</th>\n",
              "      <td>2.581673</td>\n",
              "      <td>1.291865</td>\n",
              "      <td>1.447762</td>\n",
              "      <td>0.803081</td>\n",
              "    </tr>\n",
              "  </tbody>\n",
              "</table>\n",
              "</div>"
            ],
            "text/plain": [
              "              A         B         C         D\n",
              "count  6.000000  6.000000  6.000000  6.000000\n",
              "mean   0.999027 -0.181618  0.084772  0.063209\n",
              "std    0.900544  1.293800  0.799607  0.647808\n",
              "min    0.216061 -2.173397 -0.723365 -0.893310\n",
              "25%    0.324949 -0.865448 -0.517316 -0.348348\n",
              "50%    0.809010 -0.068784  0.070931  0.260665\n",
              "75%    1.263363  0.778099  0.284562  0.439797\n",
              "max    2.581673  1.291865  1.447762  0.803081"
            ]
          },
          "metadata": {},
          "execution_count": 18
        }
      ]
    },
    {
      "cell_type": "code",
      "metadata": {
        "colab": {
          "base_uri": "https://localhost:8080/",
          "height": 175
        },
        "id": "mmIOr6F_FATG",
        "outputId": "93770919-8856-43cb-9c73-f6de4371a0a4"
      },
      "source": [
        "df.T"
      ],
      "execution_count": 19,
      "outputs": [
        {
          "output_type": "execute_result",
          "data": {
            "text/html": [
              "<div>\n",
              "<style scoped>\n",
              "    .dataframe tbody tr th:only-of-type {\n",
              "        vertical-align: middle;\n",
              "    }\n",
              "\n",
              "    .dataframe tbody tr th {\n",
              "        vertical-align: top;\n",
              "    }\n",
              "\n",
              "    .dataframe thead th {\n",
              "        text-align: right;\n",
              "    }\n",
              "</style>\n",
              "<table border=\"1\" class=\"dataframe\">\n",
              "  <thead>\n",
              "    <tr style=\"text-align: right;\">\n",
              "      <th></th>\n",
              "      <th>2013-01-01</th>\n",
              "      <th>2013-01-02</th>\n",
              "      <th>2013-01-03</th>\n",
              "      <th>2013-01-04</th>\n",
              "      <th>2013-01-05</th>\n",
              "      <th>2013-01-06</th>\n",
              "    </tr>\n",
              "  </thead>\n",
              "  <tbody>\n",
              "    <tr>\n",
              "      <th>A</th>\n",
              "      <td>1.292115</td>\n",
              "      <td>0.440916</td>\n",
              "      <td>1.177105</td>\n",
              "      <td>0.286293</td>\n",
              "      <td>0.216061</td>\n",
              "      <td>2.581673</td>\n",
              "    </tr>\n",
              "    <tr>\n",
              "      <th>B</th>\n",
              "      <td>0.289799</td>\n",
              "      <td>-0.427367</td>\n",
              "      <td>-1.011475</td>\n",
              "      <td>1.291865</td>\n",
              "      <td>0.940865</td>\n",
              "      <td>-2.173397</td>\n",
              "    </tr>\n",
              "    <tr>\n",
              "      <th>C</th>\n",
              "      <td>-0.723365</td>\n",
              "      <td>1.447762</td>\n",
              "      <td>-0.700117</td>\n",
              "      <td>0.031089</td>\n",
              "      <td>0.342491</td>\n",
              "      <td>0.110774</td>\n",
              "    </tr>\n",
              "    <tr>\n",
              "      <th>D</th>\n",
              "      <td>-0.893310</td>\n",
              "      <td>0.494468</td>\n",
              "      <td>-0.546313</td>\n",
              "      <td>0.245547</td>\n",
              "      <td>0.803081</td>\n",
              "      <td>0.275783</td>\n",
              "    </tr>\n",
              "  </tbody>\n",
              "</table>\n",
              "</div>"
            ],
            "text/plain": [
              "   2013-01-01  2013-01-02  2013-01-03  2013-01-04  2013-01-05  2013-01-06\n",
              "A    1.292115    0.440916    1.177105    0.286293    0.216061    2.581673\n",
              "B    0.289799   -0.427367   -1.011475    1.291865    0.940865   -2.173397\n",
              "C   -0.723365    1.447762   -0.700117    0.031089    0.342491    0.110774\n",
              "D   -0.893310    0.494468   -0.546313    0.245547    0.803081    0.275783"
            ]
          },
          "metadata": {},
          "execution_count": 19
        }
      ]
    },
    {
      "cell_type": "code",
      "metadata": {
        "colab": {
          "base_uri": "https://localhost:8080/",
          "height": 237
        },
        "id": "0rCPK05tFBjD",
        "outputId": "96c27042-b6d2-4430-d441-f6c2a7e3022f"
      },
      "source": [
        "df.sort_index(axis=1,ascending=False)"
      ],
      "execution_count": 20,
      "outputs": [
        {
          "output_type": "execute_result",
          "data": {
            "text/html": [
              "<div>\n",
              "<style scoped>\n",
              "    .dataframe tbody tr th:only-of-type {\n",
              "        vertical-align: middle;\n",
              "    }\n",
              "\n",
              "    .dataframe tbody tr th {\n",
              "        vertical-align: top;\n",
              "    }\n",
              "\n",
              "    .dataframe thead th {\n",
              "        text-align: right;\n",
              "    }\n",
              "</style>\n",
              "<table border=\"1\" class=\"dataframe\">\n",
              "  <thead>\n",
              "    <tr style=\"text-align: right;\">\n",
              "      <th></th>\n",
              "      <th>D</th>\n",
              "      <th>C</th>\n",
              "      <th>B</th>\n",
              "      <th>A</th>\n",
              "    </tr>\n",
              "  </thead>\n",
              "  <tbody>\n",
              "    <tr>\n",
              "      <th>2013-01-01</th>\n",
              "      <td>-0.893310</td>\n",
              "      <td>-0.723365</td>\n",
              "      <td>0.289799</td>\n",
              "      <td>1.292115</td>\n",
              "    </tr>\n",
              "    <tr>\n",
              "      <th>2013-01-02</th>\n",
              "      <td>0.494468</td>\n",
              "      <td>1.447762</td>\n",
              "      <td>-0.427367</td>\n",
              "      <td>0.440916</td>\n",
              "    </tr>\n",
              "    <tr>\n",
              "      <th>2013-01-03</th>\n",
              "      <td>-0.546313</td>\n",
              "      <td>-0.700117</td>\n",
              "      <td>-1.011475</td>\n",
              "      <td>1.177105</td>\n",
              "    </tr>\n",
              "    <tr>\n",
              "      <th>2013-01-04</th>\n",
              "      <td>0.245547</td>\n",
              "      <td>0.031089</td>\n",
              "      <td>1.291865</td>\n",
              "      <td>0.286293</td>\n",
              "    </tr>\n",
              "    <tr>\n",
              "      <th>2013-01-05</th>\n",
              "      <td>0.803081</td>\n",
              "      <td>0.342491</td>\n",
              "      <td>0.940865</td>\n",
              "      <td>0.216061</td>\n",
              "    </tr>\n",
              "    <tr>\n",
              "      <th>2013-01-06</th>\n",
              "      <td>0.275783</td>\n",
              "      <td>0.110774</td>\n",
              "      <td>-2.173397</td>\n",
              "      <td>2.581673</td>\n",
              "    </tr>\n",
              "  </tbody>\n",
              "</table>\n",
              "</div>"
            ],
            "text/plain": [
              "                   D         C         B         A\n",
              "2013-01-01 -0.893310 -0.723365  0.289799  1.292115\n",
              "2013-01-02  0.494468  1.447762 -0.427367  0.440916\n",
              "2013-01-03 -0.546313 -0.700117 -1.011475  1.177105\n",
              "2013-01-04  0.245547  0.031089  1.291865  0.286293\n",
              "2013-01-05  0.803081  0.342491  0.940865  0.216061\n",
              "2013-01-06  0.275783  0.110774 -2.173397  2.581673"
            ]
          },
          "metadata": {},
          "execution_count": 20
        }
      ]
    },
    {
      "cell_type": "code",
      "metadata": {
        "colab": {
          "base_uri": "https://localhost:8080/",
          "height": 237
        },
        "id": "ziDPMHiKFDGm",
        "outputId": "44880587-97b1-4551-9100-e5df9a327a44"
      },
      "source": [
        "df.sort_values(by=\"B\")"
      ],
      "execution_count": 21,
      "outputs": [
        {
          "output_type": "execute_result",
          "data": {
            "text/html": [
              "<div>\n",
              "<style scoped>\n",
              "    .dataframe tbody tr th:only-of-type {\n",
              "        vertical-align: middle;\n",
              "    }\n",
              "\n",
              "    .dataframe tbody tr th {\n",
              "        vertical-align: top;\n",
              "    }\n",
              "\n",
              "    .dataframe thead th {\n",
              "        text-align: right;\n",
              "    }\n",
              "</style>\n",
              "<table border=\"1\" class=\"dataframe\">\n",
              "  <thead>\n",
              "    <tr style=\"text-align: right;\">\n",
              "      <th></th>\n",
              "      <th>A</th>\n",
              "      <th>B</th>\n",
              "      <th>C</th>\n",
              "      <th>D</th>\n",
              "    </tr>\n",
              "  </thead>\n",
              "  <tbody>\n",
              "    <tr>\n",
              "      <th>2013-01-06</th>\n",
              "      <td>2.581673</td>\n",
              "      <td>-2.173397</td>\n",
              "      <td>0.110774</td>\n",
              "      <td>0.275783</td>\n",
              "    </tr>\n",
              "    <tr>\n",
              "      <th>2013-01-03</th>\n",
              "      <td>1.177105</td>\n",
              "      <td>-1.011475</td>\n",
              "      <td>-0.700117</td>\n",
              "      <td>-0.546313</td>\n",
              "    </tr>\n",
              "    <tr>\n",
              "      <th>2013-01-02</th>\n",
              "      <td>0.440916</td>\n",
              "      <td>-0.427367</td>\n",
              "      <td>1.447762</td>\n",
              "      <td>0.494468</td>\n",
              "    </tr>\n",
              "    <tr>\n",
              "      <th>2013-01-01</th>\n",
              "      <td>1.292115</td>\n",
              "      <td>0.289799</td>\n",
              "      <td>-0.723365</td>\n",
              "      <td>-0.893310</td>\n",
              "    </tr>\n",
              "    <tr>\n",
              "      <th>2013-01-05</th>\n",
              "      <td>0.216061</td>\n",
              "      <td>0.940865</td>\n",
              "      <td>0.342491</td>\n",
              "      <td>0.803081</td>\n",
              "    </tr>\n",
              "    <tr>\n",
              "      <th>2013-01-04</th>\n",
              "      <td>0.286293</td>\n",
              "      <td>1.291865</td>\n",
              "      <td>0.031089</td>\n",
              "      <td>0.245547</td>\n",
              "    </tr>\n",
              "  </tbody>\n",
              "</table>\n",
              "</div>"
            ],
            "text/plain": [
              "                   A         B         C         D\n",
              "2013-01-06  2.581673 -2.173397  0.110774  0.275783\n",
              "2013-01-03  1.177105 -1.011475 -0.700117 -0.546313\n",
              "2013-01-02  0.440916 -0.427367  1.447762  0.494468\n",
              "2013-01-01  1.292115  0.289799 -0.723365 -0.893310\n",
              "2013-01-05  0.216061  0.940865  0.342491  0.803081\n",
              "2013-01-04  0.286293  1.291865  0.031089  0.245547"
            ]
          },
          "metadata": {},
          "execution_count": 21
        }
      ]
    },
    {
      "cell_type": "code",
      "metadata": {
        "colab": {
          "base_uri": "https://localhost:8080/"
        },
        "id": "nocNI8zlFGtk",
        "outputId": "b469c2a3-6600-470c-c163-24cafef5e5d1"
      },
      "source": [
        "df[\"A\"]"
      ],
      "execution_count": 22,
      "outputs": [
        {
          "output_type": "execute_result",
          "data": {
            "text/plain": [
              "2013-01-01    1.292115\n",
              "2013-01-02    0.440916\n",
              "2013-01-03    1.177105\n",
              "2013-01-04    0.286293\n",
              "2013-01-05    0.216061\n",
              "2013-01-06    2.581673\n",
              "Freq: D, Name: A, dtype: float64"
            ]
          },
          "metadata": {},
          "execution_count": 22
        }
      ]
    },
    {
      "cell_type": "code",
      "metadata": {
        "colab": {
          "base_uri": "https://localhost:8080/",
          "height": 143
        },
        "id": "T74NWej5FJSE",
        "outputId": "ef39a7eb-96c5-404e-b0fc-21e7912ff596"
      },
      "source": [
        "df[0:3]"
      ],
      "execution_count": 23,
      "outputs": [
        {
          "output_type": "execute_result",
          "data": {
            "text/html": [
              "<div>\n",
              "<style scoped>\n",
              "    .dataframe tbody tr th:only-of-type {\n",
              "        vertical-align: middle;\n",
              "    }\n",
              "\n",
              "    .dataframe tbody tr th {\n",
              "        vertical-align: top;\n",
              "    }\n",
              "\n",
              "    .dataframe thead th {\n",
              "        text-align: right;\n",
              "    }\n",
              "</style>\n",
              "<table border=\"1\" class=\"dataframe\">\n",
              "  <thead>\n",
              "    <tr style=\"text-align: right;\">\n",
              "      <th></th>\n",
              "      <th>A</th>\n",
              "      <th>B</th>\n",
              "      <th>C</th>\n",
              "      <th>D</th>\n",
              "    </tr>\n",
              "  </thead>\n",
              "  <tbody>\n",
              "    <tr>\n",
              "      <th>2013-01-01</th>\n",
              "      <td>1.292115</td>\n",
              "      <td>0.289799</td>\n",
              "      <td>-0.723365</td>\n",
              "      <td>-0.893310</td>\n",
              "    </tr>\n",
              "    <tr>\n",
              "      <th>2013-01-02</th>\n",
              "      <td>0.440916</td>\n",
              "      <td>-0.427367</td>\n",
              "      <td>1.447762</td>\n",
              "      <td>0.494468</td>\n",
              "    </tr>\n",
              "    <tr>\n",
              "      <th>2013-01-03</th>\n",
              "      <td>1.177105</td>\n",
              "      <td>-1.011475</td>\n",
              "      <td>-0.700117</td>\n",
              "      <td>-0.546313</td>\n",
              "    </tr>\n",
              "  </tbody>\n",
              "</table>\n",
              "</div>"
            ],
            "text/plain": [
              "                   A         B         C         D\n",
              "2013-01-01  1.292115  0.289799 -0.723365 -0.893310\n",
              "2013-01-02  0.440916 -0.427367  1.447762  0.494468\n",
              "2013-01-03  1.177105 -1.011475 -0.700117 -0.546313"
            ]
          },
          "metadata": {},
          "execution_count": 23
        }
      ]
    },
    {
      "cell_type": "code",
      "metadata": {
        "colab": {
          "base_uri": "https://localhost:8080/",
          "height": 175
        },
        "id": "bvkzR3IcFKvQ",
        "outputId": "659c8608-99d0-41fd-bd5a-99e1018ec92b"
      },
      "source": [
        "df[\"20130101\":\"20130104\"]"
      ],
      "execution_count": 24,
      "outputs": [
        {
          "output_type": "execute_result",
          "data": {
            "text/html": [
              "<div>\n",
              "<style scoped>\n",
              "    .dataframe tbody tr th:only-of-type {\n",
              "        vertical-align: middle;\n",
              "    }\n",
              "\n",
              "    .dataframe tbody tr th {\n",
              "        vertical-align: top;\n",
              "    }\n",
              "\n",
              "    .dataframe thead th {\n",
              "        text-align: right;\n",
              "    }\n",
              "</style>\n",
              "<table border=\"1\" class=\"dataframe\">\n",
              "  <thead>\n",
              "    <tr style=\"text-align: right;\">\n",
              "      <th></th>\n",
              "      <th>A</th>\n",
              "      <th>B</th>\n",
              "      <th>C</th>\n",
              "      <th>D</th>\n",
              "    </tr>\n",
              "  </thead>\n",
              "  <tbody>\n",
              "    <tr>\n",
              "      <th>2013-01-01</th>\n",
              "      <td>1.292115</td>\n",
              "      <td>0.289799</td>\n",
              "      <td>-0.723365</td>\n",
              "      <td>-0.893310</td>\n",
              "    </tr>\n",
              "    <tr>\n",
              "      <th>2013-01-02</th>\n",
              "      <td>0.440916</td>\n",
              "      <td>-0.427367</td>\n",
              "      <td>1.447762</td>\n",
              "      <td>0.494468</td>\n",
              "    </tr>\n",
              "    <tr>\n",
              "      <th>2013-01-03</th>\n",
              "      <td>1.177105</td>\n",
              "      <td>-1.011475</td>\n",
              "      <td>-0.700117</td>\n",
              "      <td>-0.546313</td>\n",
              "    </tr>\n",
              "    <tr>\n",
              "      <th>2013-01-04</th>\n",
              "      <td>0.286293</td>\n",
              "      <td>1.291865</td>\n",
              "      <td>0.031089</td>\n",
              "      <td>0.245547</td>\n",
              "    </tr>\n",
              "  </tbody>\n",
              "</table>\n",
              "</div>"
            ],
            "text/plain": [
              "                   A         B         C         D\n",
              "2013-01-01  1.292115  0.289799 -0.723365 -0.893310\n",
              "2013-01-02  0.440916 -0.427367  1.447762  0.494468\n",
              "2013-01-03  1.177105 -1.011475 -0.700117 -0.546313\n",
              "2013-01-04  0.286293  1.291865  0.031089  0.245547"
            ]
          },
          "metadata": {},
          "execution_count": 24
        }
      ]
    },
    {
      "cell_type": "code",
      "metadata": {
        "colab": {
          "base_uri": "https://localhost:8080/"
        },
        "id": "vkv3cXCQFNR8",
        "outputId": "0c39b942-4b63-4f3f-838b-b9724bd70887"
      },
      "source": [
        "df.loc[dates[0]]"
      ],
      "execution_count": 26,
      "outputs": [
        {
          "output_type": "execute_result",
          "data": {
            "text/plain": [
              "A    1.292115\n",
              "B    0.289799\n",
              "C   -0.723365\n",
              "D   -0.893310\n",
              "Name: 2013-01-01 00:00:00, dtype: float64"
            ]
          },
          "metadata": {},
          "execution_count": 26
        }
      ]
    },
    {
      "cell_type": "code",
      "metadata": {
        "colab": {
          "base_uri": "https://localhost:8080/",
          "height": 237
        },
        "id": "tMTY-GMvFOh1",
        "outputId": "54e02680-15ee-458c-8c95-96338e0ff9b6"
      },
      "source": [
        "df.loc[:,[\"A\",\"B\"]]"
      ],
      "execution_count": 27,
      "outputs": [
        {
          "output_type": "execute_result",
          "data": {
            "text/html": [
              "<div>\n",
              "<style scoped>\n",
              "    .dataframe tbody tr th:only-of-type {\n",
              "        vertical-align: middle;\n",
              "    }\n",
              "\n",
              "    .dataframe tbody tr th {\n",
              "        vertical-align: top;\n",
              "    }\n",
              "\n",
              "    .dataframe thead th {\n",
              "        text-align: right;\n",
              "    }\n",
              "</style>\n",
              "<table border=\"1\" class=\"dataframe\">\n",
              "  <thead>\n",
              "    <tr style=\"text-align: right;\">\n",
              "      <th></th>\n",
              "      <th>A</th>\n",
              "      <th>B</th>\n",
              "    </tr>\n",
              "  </thead>\n",
              "  <tbody>\n",
              "    <tr>\n",
              "      <th>2013-01-01</th>\n",
              "      <td>1.292115</td>\n",
              "      <td>0.289799</td>\n",
              "    </tr>\n",
              "    <tr>\n",
              "      <th>2013-01-02</th>\n",
              "      <td>0.440916</td>\n",
              "      <td>-0.427367</td>\n",
              "    </tr>\n",
              "    <tr>\n",
              "      <th>2013-01-03</th>\n",
              "      <td>1.177105</td>\n",
              "      <td>-1.011475</td>\n",
              "    </tr>\n",
              "    <tr>\n",
              "      <th>2013-01-04</th>\n",
              "      <td>0.286293</td>\n",
              "      <td>1.291865</td>\n",
              "    </tr>\n",
              "    <tr>\n",
              "      <th>2013-01-05</th>\n",
              "      <td>0.216061</td>\n",
              "      <td>0.940865</td>\n",
              "    </tr>\n",
              "    <tr>\n",
              "      <th>2013-01-06</th>\n",
              "      <td>2.581673</td>\n",
              "      <td>-2.173397</td>\n",
              "    </tr>\n",
              "  </tbody>\n",
              "</table>\n",
              "</div>"
            ],
            "text/plain": [
              "                   A         B\n",
              "2013-01-01  1.292115  0.289799\n",
              "2013-01-02  0.440916 -0.427367\n",
              "2013-01-03  1.177105 -1.011475\n",
              "2013-01-04  0.286293  1.291865\n",
              "2013-01-05  0.216061  0.940865\n",
              "2013-01-06  2.581673 -2.173397"
            ]
          },
          "metadata": {},
          "execution_count": 27
        }
      ]
    },
    {
      "cell_type": "code",
      "metadata": {
        "colab": {
          "base_uri": "https://localhost:8080/",
          "height": 143
        },
        "id": "yLiImvxbFSQ0",
        "outputId": "e7a0530d-0f42-49d4-89e3-2acb0986f137"
      },
      "source": [
        "df.loc[\"20130102\":\"20130104\",[\"A\",\"B\"]]"
      ],
      "execution_count": 28,
      "outputs": [
        {
          "output_type": "execute_result",
          "data": {
            "text/html": [
              "<div>\n",
              "<style scoped>\n",
              "    .dataframe tbody tr th:only-of-type {\n",
              "        vertical-align: middle;\n",
              "    }\n",
              "\n",
              "    .dataframe tbody tr th {\n",
              "        vertical-align: top;\n",
              "    }\n",
              "\n",
              "    .dataframe thead th {\n",
              "        text-align: right;\n",
              "    }\n",
              "</style>\n",
              "<table border=\"1\" class=\"dataframe\">\n",
              "  <thead>\n",
              "    <tr style=\"text-align: right;\">\n",
              "      <th></th>\n",
              "      <th>A</th>\n",
              "      <th>B</th>\n",
              "    </tr>\n",
              "  </thead>\n",
              "  <tbody>\n",
              "    <tr>\n",
              "      <th>2013-01-02</th>\n",
              "      <td>0.440916</td>\n",
              "      <td>-0.427367</td>\n",
              "    </tr>\n",
              "    <tr>\n",
              "      <th>2013-01-03</th>\n",
              "      <td>1.177105</td>\n",
              "      <td>-1.011475</td>\n",
              "    </tr>\n",
              "    <tr>\n",
              "      <th>2013-01-04</th>\n",
              "      <td>0.286293</td>\n",
              "      <td>1.291865</td>\n",
              "    </tr>\n",
              "  </tbody>\n",
              "</table>\n",
              "</div>"
            ],
            "text/plain": [
              "                   A         B\n",
              "2013-01-02  0.440916 -0.427367\n",
              "2013-01-03  1.177105 -1.011475\n",
              "2013-01-04  0.286293  1.291865"
            ]
          },
          "metadata": {},
          "execution_count": 28
        }
      ]
    },
    {
      "cell_type": "code",
      "metadata": {
        "colab": {
          "base_uri": "https://localhost:8080/"
        },
        "id": "rHbqLiRYFTnL",
        "outputId": "4c461fd9-f60a-430e-dabb-af44bd307e32"
      },
      "source": [
        "df.loc[dates[0],\"A\"]"
      ],
      "execution_count": 29,
      "outputs": [
        {
          "output_type": "execute_result",
          "data": {
            "text/plain": [
              "1.292114962705885"
            ]
          },
          "metadata": {},
          "execution_count": 29
        }
      ]
    },
    {
      "cell_type": "code",
      "metadata": {
        "colab": {
          "base_uri": "https://localhost:8080/"
        },
        "id": "I1z-A5ZUFU4E",
        "outputId": "d667f08d-12d4-4466-dd3f-aaa1192fbd27"
      },
      "source": [
        "df.at[dates[0],\"A\"]"
      ],
      "execution_count": 30,
      "outputs": [
        {
          "output_type": "execute_result",
          "data": {
            "text/plain": [
              "1.292114962705885"
            ]
          },
          "metadata": {},
          "execution_count": 30
        }
      ]
    },
    {
      "cell_type": "code",
      "metadata": {
        "colab": {
          "base_uri": "https://localhost:8080/"
        },
        "id": "uyyqheAaFW5t",
        "outputId": "5f827349-bafd-43b3-fa60-7077a5efab52"
      },
      "source": [
        "df.iloc[4]"
      ],
      "execution_count": 32,
      "outputs": [
        {
          "output_type": "execute_result",
          "data": {
            "text/plain": [
              "A    0.216061\n",
              "B    0.940865\n",
              "C    0.342491\n",
              "D    0.803081\n",
              "Name: 2013-01-05 00:00:00, dtype: float64"
            ]
          },
          "metadata": {},
          "execution_count": 32
        }
      ]
    },
    {
      "cell_type": "code",
      "metadata": {
        "colab": {
          "base_uri": "https://localhost:8080/",
          "height": 112
        },
        "id": "PGarqLSeFYHb",
        "outputId": "ec0ac0c9-dfe5-428c-cdc1-d333cf6c6787"
      },
      "source": [
        "df.iloc[3:5,0:2]"
      ],
      "execution_count": 33,
      "outputs": [
        {
          "output_type": "execute_result",
          "data": {
            "text/html": [
              "<div>\n",
              "<style scoped>\n",
              "    .dataframe tbody tr th:only-of-type {\n",
              "        vertical-align: middle;\n",
              "    }\n",
              "\n",
              "    .dataframe tbody tr th {\n",
              "        vertical-align: top;\n",
              "    }\n",
              "\n",
              "    .dataframe thead th {\n",
              "        text-align: right;\n",
              "    }\n",
              "</style>\n",
              "<table border=\"1\" class=\"dataframe\">\n",
              "  <thead>\n",
              "    <tr style=\"text-align: right;\">\n",
              "      <th></th>\n",
              "      <th>A</th>\n",
              "      <th>B</th>\n",
              "    </tr>\n",
              "  </thead>\n",
              "  <tbody>\n",
              "    <tr>\n",
              "      <th>2013-01-04</th>\n",
              "      <td>0.286293</td>\n",
              "      <td>1.291865</td>\n",
              "    </tr>\n",
              "    <tr>\n",
              "      <th>2013-01-05</th>\n",
              "      <td>0.216061</td>\n",
              "      <td>0.940865</td>\n",
              "    </tr>\n",
              "  </tbody>\n",
              "</table>\n",
              "</div>"
            ],
            "text/plain": [
              "                   A         B\n",
              "2013-01-04  0.286293  1.291865\n",
              "2013-01-05  0.216061  0.940865"
            ]
          },
          "metadata": {},
          "execution_count": 33
        }
      ]
    },
    {
      "cell_type": "code",
      "metadata": {
        "colab": {
          "base_uri": "https://localhost:8080/",
          "height": 143
        },
        "id": "Vi4umKF3FdPF",
        "outputId": "77df8b48-c61f-4bec-e71f-2d270cc5d366"
      },
      "source": [
        "df.iloc[[1,2,3],[0,2]]"
      ],
      "execution_count": 34,
      "outputs": [
        {
          "output_type": "execute_result",
          "data": {
            "text/html": [
              "<div>\n",
              "<style scoped>\n",
              "    .dataframe tbody tr th:only-of-type {\n",
              "        vertical-align: middle;\n",
              "    }\n",
              "\n",
              "    .dataframe tbody tr th {\n",
              "        vertical-align: top;\n",
              "    }\n",
              "\n",
              "    .dataframe thead th {\n",
              "        text-align: right;\n",
              "    }\n",
              "</style>\n",
              "<table border=\"1\" class=\"dataframe\">\n",
              "  <thead>\n",
              "    <tr style=\"text-align: right;\">\n",
              "      <th></th>\n",
              "      <th>A</th>\n",
              "      <th>C</th>\n",
              "    </tr>\n",
              "  </thead>\n",
              "  <tbody>\n",
              "    <tr>\n",
              "      <th>2013-01-02</th>\n",
              "      <td>0.440916</td>\n",
              "      <td>1.447762</td>\n",
              "    </tr>\n",
              "    <tr>\n",
              "      <th>2013-01-03</th>\n",
              "      <td>1.177105</td>\n",
              "      <td>-0.700117</td>\n",
              "    </tr>\n",
              "    <tr>\n",
              "      <th>2013-01-04</th>\n",
              "      <td>0.286293</td>\n",
              "      <td>0.031089</td>\n",
              "    </tr>\n",
              "  </tbody>\n",
              "</table>\n",
              "</div>"
            ],
            "text/plain": [
              "                   A         C\n",
              "2013-01-02  0.440916  1.447762\n",
              "2013-01-03  1.177105 -0.700117\n",
              "2013-01-04  0.286293  0.031089"
            ]
          },
          "metadata": {},
          "execution_count": 34
        }
      ]
    },
    {
      "cell_type": "code",
      "metadata": {
        "colab": {
          "base_uri": "https://localhost:8080/",
          "height": 237
        },
        "id": "T-JNpU--FeXW",
        "outputId": "fef0df2d-9fff-46f0-9283-13cdea73daf7"
      },
      "source": [
        "df.iloc[:,1:3]"
      ],
      "execution_count": 35,
      "outputs": [
        {
          "output_type": "execute_result",
          "data": {
            "text/html": [
              "<div>\n",
              "<style scoped>\n",
              "    .dataframe tbody tr th:only-of-type {\n",
              "        vertical-align: middle;\n",
              "    }\n",
              "\n",
              "    .dataframe tbody tr th {\n",
              "        vertical-align: top;\n",
              "    }\n",
              "\n",
              "    .dataframe thead th {\n",
              "        text-align: right;\n",
              "    }\n",
              "</style>\n",
              "<table border=\"1\" class=\"dataframe\">\n",
              "  <thead>\n",
              "    <tr style=\"text-align: right;\">\n",
              "      <th></th>\n",
              "      <th>B</th>\n",
              "      <th>C</th>\n",
              "    </tr>\n",
              "  </thead>\n",
              "  <tbody>\n",
              "    <tr>\n",
              "      <th>2013-01-01</th>\n",
              "      <td>0.289799</td>\n",
              "      <td>-0.723365</td>\n",
              "    </tr>\n",
              "    <tr>\n",
              "      <th>2013-01-02</th>\n",
              "      <td>-0.427367</td>\n",
              "      <td>1.447762</td>\n",
              "    </tr>\n",
              "    <tr>\n",
              "      <th>2013-01-03</th>\n",
              "      <td>-1.011475</td>\n",
              "      <td>-0.700117</td>\n",
              "    </tr>\n",
              "    <tr>\n",
              "      <th>2013-01-04</th>\n",
              "      <td>1.291865</td>\n",
              "      <td>0.031089</td>\n",
              "    </tr>\n",
              "    <tr>\n",
              "      <th>2013-01-05</th>\n",
              "      <td>0.940865</td>\n",
              "      <td>0.342491</td>\n",
              "    </tr>\n",
              "    <tr>\n",
              "      <th>2013-01-06</th>\n",
              "      <td>-2.173397</td>\n",
              "      <td>0.110774</td>\n",
              "    </tr>\n",
              "  </tbody>\n",
              "</table>\n",
              "</div>"
            ],
            "text/plain": [
              "                   B         C\n",
              "2013-01-01  0.289799 -0.723365\n",
              "2013-01-02 -0.427367  1.447762\n",
              "2013-01-03 -1.011475 -0.700117\n",
              "2013-01-04  1.291865  0.031089\n",
              "2013-01-05  0.940865  0.342491\n",
              "2013-01-06 -2.173397  0.110774"
            ]
          },
          "metadata": {},
          "execution_count": 35
        }
      ]
    },
    {
      "cell_type": "code",
      "metadata": {
        "colab": {
          "base_uri": "https://localhost:8080/"
        },
        "id": "TfpHB0-QFf3k",
        "outputId": "6b59f9d9-e634-45d0-aae4-e297581126d7"
      },
      "source": [
        "df.iloc[1,1]"
      ],
      "execution_count": 36,
      "outputs": [
        {
          "output_type": "execute_result",
          "data": {
            "text/plain": [
              "-0.4273665377984321"
            ]
          },
          "metadata": {},
          "execution_count": 36
        }
      ]
    },
    {
      "cell_type": "code",
      "metadata": {
        "colab": {
          "base_uri": "https://localhost:8080/"
        },
        "id": "PZPy_h1dFi5e",
        "outputId": "42df5f86-cb15-4a0c-8fd8-0920d952f3ef"
      },
      "source": [
        "df.iat[1,1]\n"
      ],
      "execution_count": 37,
      "outputs": [
        {
          "output_type": "execute_result",
          "data": {
            "text/plain": [
              "-0.4273665377984321"
            ]
          },
          "metadata": {},
          "execution_count": 37
        }
      ]
    },
    {
      "cell_type": "code",
      "metadata": {
        "colab": {
          "base_uri": "https://localhost:8080/",
          "height": 237
        },
        "id": "g_WM7uy-Flbk",
        "outputId": "e4d01f76-93a5-48b5-c6b7-d5c6cdc34abe"
      },
      "source": [
        "df[df['A']>-1]"
      ],
      "execution_count": 38,
      "outputs": [
        {
          "output_type": "execute_result",
          "data": {
            "text/html": [
              "<div>\n",
              "<style scoped>\n",
              "    .dataframe tbody tr th:only-of-type {\n",
              "        vertical-align: middle;\n",
              "    }\n",
              "\n",
              "    .dataframe tbody tr th {\n",
              "        vertical-align: top;\n",
              "    }\n",
              "\n",
              "    .dataframe thead th {\n",
              "        text-align: right;\n",
              "    }\n",
              "</style>\n",
              "<table border=\"1\" class=\"dataframe\">\n",
              "  <thead>\n",
              "    <tr style=\"text-align: right;\">\n",
              "      <th></th>\n",
              "      <th>A</th>\n",
              "      <th>B</th>\n",
              "      <th>C</th>\n",
              "      <th>D</th>\n",
              "    </tr>\n",
              "  </thead>\n",
              "  <tbody>\n",
              "    <tr>\n",
              "      <th>2013-01-01</th>\n",
              "      <td>1.292115</td>\n",
              "      <td>0.289799</td>\n",
              "      <td>-0.723365</td>\n",
              "      <td>-0.893310</td>\n",
              "    </tr>\n",
              "    <tr>\n",
              "      <th>2013-01-02</th>\n",
              "      <td>0.440916</td>\n",
              "      <td>-0.427367</td>\n",
              "      <td>1.447762</td>\n",
              "      <td>0.494468</td>\n",
              "    </tr>\n",
              "    <tr>\n",
              "      <th>2013-01-03</th>\n",
              "      <td>1.177105</td>\n",
              "      <td>-1.011475</td>\n",
              "      <td>-0.700117</td>\n",
              "      <td>-0.546313</td>\n",
              "    </tr>\n",
              "    <tr>\n",
              "      <th>2013-01-04</th>\n",
              "      <td>0.286293</td>\n",
              "      <td>1.291865</td>\n",
              "      <td>0.031089</td>\n",
              "      <td>0.245547</td>\n",
              "    </tr>\n",
              "    <tr>\n",
              "      <th>2013-01-05</th>\n",
              "      <td>0.216061</td>\n",
              "      <td>0.940865</td>\n",
              "      <td>0.342491</td>\n",
              "      <td>0.803081</td>\n",
              "    </tr>\n",
              "    <tr>\n",
              "      <th>2013-01-06</th>\n",
              "      <td>2.581673</td>\n",
              "      <td>-2.173397</td>\n",
              "      <td>0.110774</td>\n",
              "      <td>0.275783</td>\n",
              "    </tr>\n",
              "  </tbody>\n",
              "</table>\n",
              "</div>"
            ],
            "text/plain": [
              "                   A         B         C         D\n",
              "2013-01-01  1.292115  0.289799 -0.723365 -0.893310\n",
              "2013-01-02  0.440916 -0.427367  1.447762  0.494468\n",
              "2013-01-03  1.177105 -1.011475 -0.700117 -0.546313\n",
              "2013-01-04  0.286293  1.291865  0.031089  0.245547\n",
              "2013-01-05  0.216061  0.940865  0.342491  0.803081\n",
              "2013-01-06  2.581673 -2.173397  0.110774  0.275783"
            ]
          },
          "metadata": {},
          "execution_count": 38
        }
      ]
    },
    {
      "cell_type": "code",
      "metadata": {
        "colab": {
          "base_uri": "https://localhost:8080/",
          "height": 237
        },
        "id": "uR6Cm4Z_Fm2n",
        "outputId": "e729e884-4fdb-4448-fe3a-7062262f1fef"
      },
      "source": [
        "df[df>0]"
      ],
      "execution_count": 39,
      "outputs": [
        {
          "output_type": "execute_result",
          "data": {
            "text/html": [
              "<div>\n",
              "<style scoped>\n",
              "    .dataframe tbody tr th:only-of-type {\n",
              "        vertical-align: middle;\n",
              "    }\n",
              "\n",
              "    .dataframe tbody tr th {\n",
              "        vertical-align: top;\n",
              "    }\n",
              "\n",
              "    .dataframe thead th {\n",
              "        text-align: right;\n",
              "    }\n",
              "</style>\n",
              "<table border=\"1\" class=\"dataframe\">\n",
              "  <thead>\n",
              "    <tr style=\"text-align: right;\">\n",
              "      <th></th>\n",
              "      <th>A</th>\n",
              "      <th>B</th>\n",
              "      <th>C</th>\n",
              "      <th>D</th>\n",
              "    </tr>\n",
              "  </thead>\n",
              "  <tbody>\n",
              "    <tr>\n",
              "      <th>2013-01-01</th>\n",
              "      <td>1.292115</td>\n",
              "      <td>0.289799</td>\n",
              "      <td>NaN</td>\n",
              "      <td>NaN</td>\n",
              "    </tr>\n",
              "    <tr>\n",
              "      <th>2013-01-02</th>\n",
              "      <td>0.440916</td>\n",
              "      <td>NaN</td>\n",
              "      <td>1.447762</td>\n",
              "      <td>0.494468</td>\n",
              "    </tr>\n",
              "    <tr>\n",
              "      <th>2013-01-03</th>\n",
              "      <td>1.177105</td>\n",
              "      <td>NaN</td>\n",
              "      <td>NaN</td>\n",
              "      <td>NaN</td>\n",
              "    </tr>\n",
              "    <tr>\n",
              "      <th>2013-01-04</th>\n",
              "      <td>0.286293</td>\n",
              "      <td>1.291865</td>\n",
              "      <td>0.031089</td>\n",
              "      <td>0.245547</td>\n",
              "    </tr>\n",
              "    <tr>\n",
              "      <th>2013-01-05</th>\n",
              "      <td>0.216061</td>\n",
              "      <td>0.940865</td>\n",
              "      <td>0.342491</td>\n",
              "      <td>0.803081</td>\n",
              "    </tr>\n",
              "    <tr>\n",
              "      <th>2013-01-06</th>\n",
              "      <td>2.581673</td>\n",
              "      <td>NaN</td>\n",
              "      <td>0.110774</td>\n",
              "      <td>0.275783</td>\n",
              "    </tr>\n",
              "  </tbody>\n",
              "</table>\n",
              "</div>"
            ],
            "text/plain": [
              "                   A         B         C         D\n",
              "2013-01-01  1.292115  0.289799       NaN       NaN\n",
              "2013-01-02  0.440916       NaN  1.447762  0.494468\n",
              "2013-01-03  1.177105       NaN       NaN       NaN\n",
              "2013-01-04  0.286293  1.291865  0.031089  0.245547\n",
              "2013-01-05  0.216061  0.940865  0.342491  0.803081\n",
              "2013-01-06  2.581673       NaN  0.110774  0.275783"
            ]
          },
          "metadata": {},
          "execution_count": 39
        }
      ]
    },
    {
      "cell_type": "code",
      "metadata": {
        "id": "USXZ4pB4FoG3"
      },
      "source": [
        "df2=df.copy()"
      ],
      "execution_count": 40,
      "outputs": []
    },
    {
      "cell_type": "code",
      "metadata": {
        "id": "jg8aNN3hFuq0"
      },
      "source": [
        "\n",
        "df2[\"E\"]=[\"one\",\"two\",\"two\",\"three\",\"four\",\"three\"]"
      ],
      "execution_count": 41,
      "outputs": []
    },
    {
      "cell_type": "code",
      "metadata": {
        "colab": {
          "base_uri": "https://localhost:8080/",
          "height": 143
        },
        "id": "rXEB6Wo5F_sr",
        "outputId": "f65e1aca-adb1-4b61-d426-8e8d41d71c49"
      },
      "source": [
        "df2[df2[\"E\"].isin([\"two\",\"four\"])]"
      ],
      "execution_count": 42,
      "outputs": [
        {
          "output_type": "execute_result",
          "data": {
            "text/html": [
              "<div>\n",
              "<style scoped>\n",
              "    .dataframe tbody tr th:only-of-type {\n",
              "        vertical-align: middle;\n",
              "    }\n",
              "\n",
              "    .dataframe tbody tr th {\n",
              "        vertical-align: top;\n",
              "    }\n",
              "\n",
              "    .dataframe thead th {\n",
              "        text-align: right;\n",
              "    }\n",
              "</style>\n",
              "<table border=\"1\" class=\"dataframe\">\n",
              "  <thead>\n",
              "    <tr style=\"text-align: right;\">\n",
              "      <th></th>\n",
              "      <th>A</th>\n",
              "      <th>B</th>\n",
              "      <th>C</th>\n",
              "      <th>D</th>\n",
              "      <th>E</th>\n",
              "    </tr>\n",
              "  </thead>\n",
              "  <tbody>\n",
              "    <tr>\n",
              "      <th>2013-01-02</th>\n",
              "      <td>0.440916</td>\n",
              "      <td>-0.427367</td>\n",
              "      <td>1.447762</td>\n",
              "      <td>0.494468</td>\n",
              "      <td>two</td>\n",
              "    </tr>\n",
              "    <tr>\n",
              "      <th>2013-01-03</th>\n",
              "      <td>1.177105</td>\n",
              "      <td>-1.011475</td>\n",
              "      <td>-0.700117</td>\n",
              "      <td>-0.546313</td>\n",
              "      <td>two</td>\n",
              "    </tr>\n",
              "    <tr>\n",
              "      <th>2013-01-05</th>\n",
              "      <td>0.216061</td>\n",
              "      <td>0.940865</td>\n",
              "      <td>0.342491</td>\n",
              "      <td>0.803081</td>\n",
              "      <td>four</td>\n",
              "    </tr>\n",
              "  </tbody>\n",
              "</table>\n",
              "</div>"
            ],
            "text/plain": [
              "                   A         B         C         D     E\n",
              "2013-01-02  0.440916 -0.427367  1.447762  0.494468   two\n",
              "2013-01-03  1.177105 -1.011475 -0.700117 -0.546313   two\n",
              "2013-01-05  0.216061  0.940865  0.342491  0.803081  four"
            ]
          },
          "metadata": {},
          "execution_count": 42
        }
      ]
    },
    {
      "cell_type": "code",
      "metadata": {
        "colab": {
          "base_uri": "https://localhost:8080/",
          "height": 175
        },
        "id": "HIW0_gi5GBRW",
        "outputId": "0b3ab9ab-57c5-44a4-8adf-14ae3924b75d"
      },
      "source": [
        "df1=df.reindex(index=dates[0:4],columns=list(df.columns)+[\"E\"])\n",
        "df1"
      ],
      "execution_count": 43,
      "outputs": [
        {
          "output_type": "execute_result",
          "data": {
            "text/html": [
              "<div>\n",
              "<style scoped>\n",
              "    .dataframe tbody tr th:only-of-type {\n",
              "        vertical-align: middle;\n",
              "    }\n",
              "\n",
              "    .dataframe tbody tr th {\n",
              "        vertical-align: top;\n",
              "    }\n",
              "\n",
              "    .dataframe thead th {\n",
              "        text-align: right;\n",
              "    }\n",
              "</style>\n",
              "<table border=\"1\" class=\"dataframe\">\n",
              "  <thead>\n",
              "    <tr style=\"text-align: right;\">\n",
              "      <th></th>\n",
              "      <th>A</th>\n",
              "      <th>B</th>\n",
              "      <th>C</th>\n",
              "      <th>D</th>\n",
              "      <th>E</th>\n",
              "    </tr>\n",
              "  </thead>\n",
              "  <tbody>\n",
              "    <tr>\n",
              "      <th>2013-01-01</th>\n",
              "      <td>1.292115</td>\n",
              "      <td>0.289799</td>\n",
              "      <td>-0.723365</td>\n",
              "      <td>-0.893310</td>\n",
              "      <td>NaN</td>\n",
              "    </tr>\n",
              "    <tr>\n",
              "      <th>2013-01-02</th>\n",
              "      <td>0.440916</td>\n",
              "      <td>-0.427367</td>\n",
              "      <td>1.447762</td>\n",
              "      <td>0.494468</td>\n",
              "      <td>NaN</td>\n",
              "    </tr>\n",
              "    <tr>\n",
              "      <th>2013-01-03</th>\n",
              "      <td>1.177105</td>\n",
              "      <td>-1.011475</td>\n",
              "      <td>-0.700117</td>\n",
              "      <td>-0.546313</td>\n",
              "      <td>NaN</td>\n",
              "    </tr>\n",
              "    <tr>\n",
              "      <th>2013-01-04</th>\n",
              "      <td>0.286293</td>\n",
              "      <td>1.291865</td>\n",
              "      <td>0.031089</td>\n",
              "      <td>0.245547</td>\n",
              "      <td>NaN</td>\n",
              "    </tr>\n",
              "  </tbody>\n",
              "</table>\n",
              "</div>"
            ],
            "text/plain": [
              "                   A         B         C         D   E\n",
              "2013-01-01  1.292115  0.289799 -0.723365 -0.893310 NaN\n",
              "2013-01-02  0.440916 -0.427367  1.447762  0.494468 NaN\n",
              "2013-01-03  1.177105 -1.011475 -0.700117 -0.546313 NaN\n",
              "2013-01-04  0.286293  1.291865  0.031089  0.245547 NaN"
            ]
          },
          "metadata": {},
          "execution_count": 43
        }
      ]
    },
    {
      "cell_type": "code",
      "metadata": {
        "colab": {
          "base_uri": "https://localhost:8080/",
          "height": 175
        },
        "id": "dP5gTkBSGDe0",
        "outputId": "987364d6-07a2-4c93-ce87-ad741c872564"
      },
      "source": [
        "df1.loc[dates[0]:dates[1],\"E\"]=1\n",
        "df1"
      ],
      "execution_count": 44,
      "outputs": [
        {
          "output_type": "execute_result",
          "data": {
            "text/html": [
              "<div>\n",
              "<style scoped>\n",
              "    .dataframe tbody tr th:only-of-type {\n",
              "        vertical-align: middle;\n",
              "    }\n",
              "\n",
              "    .dataframe tbody tr th {\n",
              "        vertical-align: top;\n",
              "    }\n",
              "\n",
              "    .dataframe thead th {\n",
              "        text-align: right;\n",
              "    }\n",
              "</style>\n",
              "<table border=\"1\" class=\"dataframe\">\n",
              "  <thead>\n",
              "    <tr style=\"text-align: right;\">\n",
              "      <th></th>\n",
              "      <th>A</th>\n",
              "      <th>B</th>\n",
              "      <th>C</th>\n",
              "      <th>D</th>\n",
              "      <th>E</th>\n",
              "    </tr>\n",
              "  </thead>\n",
              "  <tbody>\n",
              "    <tr>\n",
              "      <th>2013-01-01</th>\n",
              "      <td>1.292115</td>\n",
              "      <td>0.289799</td>\n",
              "      <td>-0.723365</td>\n",
              "      <td>-0.893310</td>\n",
              "      <td>1.0</td>\n",
              "    </tr>\n",
              "    <tr>\n",
              "      <th>2013-01-02</th>\n",
              "      <td>0.440916</td>\n",
              "      <td>-0.427367</td>\n",
              "      <td>1.447762</td>\n",
              "      <td>0.494468</td>\n",
              "      <td>1.0</td>\n",
              "    </tr>\n",
              "    <tr>\n",
              "      <th>2013-01-03</th>\n",
              "      <td>1.177105</td>\n",
              "      <td>-1.011475</td>\n",
              "      <td>-0.700117</td>\n",
              "      <td>-0.546313</td>\n",
              "      <td>NaN</td>\n",
              "    </tr>\n",
              "    <tr>\n",
              "      <th>2013-01-04</th>\n",
              "      <td>0.286293</td>\n",
              "      <td>1.291865</td>\n",
              "      <td>0.031089</td>\n",
              "      <td>0.245547</td>\n",
              "      <td>NaN</td>\n",
              "    </tr>\n",
              "  </tbody>\n",
              "</table>\n",
              "</div>"
            ],
            "text/plain": [
              "                   A         B         C         D    E\n",
              "2013-01-01  1.292115  0.289799 -0.723365 -0.893310  1.0\n",
              "2013-01-02  0.440916 -0.427367  1.447762  0.494468  1.0\n",
              "2013-01-03  1.177105 -1.011475 -0.700117 -0.546313  NaN\n",
              "2013-01-04  0.286293  1.291865  0.031089  0.245547  NaN"
            ]
          },
          "metadata": {},
          "execution_count": 44
        }
      ]
    },
    {
      "cell_type": "code",
      "metadata": {
        "colab": {
          "base_uri": "https://localhost:8080/",
          "height": 112
        },
        "id": "emDYBzXWGE0H",
        "outputId": "a378403d-432c-4a6a-facd-b2f5189c60e4"
      },
      "source": [
        "df1.dropna(how=\"any\")\n"
      ],
      "execution_count": 45,
      "outputs": [
        {
          "output_type": "execute_result",
          "data": {
            "text/html": [
              "<div>\n",
              "<style scoped>\n",
              "    .dataframe tbody tr th:only-of-type {\n",
              "        vertical-align: middle;\n",
              "    }\n",
              "\n",
              "    .dataframe tbody tr th {\n",
              "        vertical-align: top;\n",
              "    }\n",
              "\n",
              "    .dataframe thead th {\n",
              "        text-align: right;\n",
              "    }\n",
              "</style>\n",
              "<table border=\"1\" class=\"dataframe\">\n",
              "  <thead>\n",
              "    <tr style=\"text-align: right;\">\n",
              "      <th></th>\n",
              "      <th>A</th>\n",
              "      <th>B</th>\n",
              "      <th>C</th>\n",
              "      <th>D</th>\n",
              "      <th>E</th>\n",
              "    </tr>\n",
              "  </thead>\n",
              "  <tbody>\n",
              "    <tr>\n",
              "      <th>2013-01-01</th>\n",
              "      <td>1.292115</td>\n",
              "      <td>0.289799</td>\n",
              "      <td>-0.723365</td>\n",
              "      <td>-0.893310</td>\n",
              "      <td>1.0</td>\n",
              "    </tr>\n",
              "    <tr>\n",
              "      <th>2013-01-02</th>\n",
              "      <td>0.440916</td>\n",
              "      <td>-0.427367</td>\n",
              "      <td>1.447762</td>\n",
              "      <td>0.494468</td>\n",
              "      <td>1.0</td>\n",
              "    </tr>\n",
              "  </tbody>\n",
              "</table>\n",
              "</div>"
            ],
            "text/plain": [
              "                   A         B         C         D    E\n",
              "2013-01-01  1.292115  0.289799 -0.723365 -0.893310  1.0\n",
              "2013-01-02  0.440916 -0.427367  1.447762  0.494468  1.0"
            ]
          },
          "metadata": {},
          "execution_count": 45
        }
      ]
    },
    {
      "cell_type": "code",
      "metadata": {
        "colab": {
          "base_uri": "https://localhost:8080/",
          "height": 175
        },
        "id": "IShYnvKuGGMq",
        "outputId": "bb8d4500-ab6d-4737-ad6e-593e2047e798"
      },
      "source": [
        "df1.fillna(value=5)"
      ],
      "execution_count": 46,
      "outputs": [
        {
          "output_type": "execute_result",
          "data": {
            "text/html": [
              "<div>\n",
              "<style scoped>\n",
              "    .dataframe tbody tr th:only-of-type {\n",
              "        vertical-align: middle;\n",
              "    }\n",
              "\n",
              "    .dataframe tbody tr th {\n",
              "        vertical-align: top;\n",
              "    }\n",
              "\n",
              "    .dataframe thead th {\n",
              "        text-align: right;\n",
              "    }\n",
              "</style>\n",
              "<table border=\"1\" class=\"dataframe\">\n",
              "  <thead>\n",
              "    <tr style=\"text-align: right;\">\n",
              "      <th></th>\n",
              "      <th>A</th>\n",
              "      <th>B</th>\n",
              "      <th>C</th>\n",
              "      <th>D</th>\n",
              "      <th>E</th>\n",
              "    </tr>\n",
              "  </thead>\n",
              "  <tbody>\n",
              "    <tr>\n",
              "      <th>2013-01-01</th>\n",
              "      <td>1.292115</td>\n",
              "      <td>0.289799</td>\n",
              "      <td>-0.723365</td>\n",
              "      <td>-0.893310</td>\n",
              "      <td>1.0</td>\n",
              "    </tr>\n",
              "    <tr>\n",
              "      <th>2013-01-02</th>\n",
              "      <td>0.440916</td>\n",
              "      <td>-0.427367</td>\n",
              "      <td>1.447762</td>\n",
              "      <td>0.494468</td>\n",
              "      <td>1.0</td>\n",
              "    </tr>\n",
              "    <tr>\n",
              "      <th>2013-01-03</th>\n",
              "      <td>1.177105</td>\n",
              "      <td>-1.011475</td>\n",
              "      <td>-0.700117</td>\n",
              "      <td>-0.546313</td>\n",
              "      <td>5.0</td>\n",
              "    </tr>\n",
              "    <tr>\n",
              "      <th>2013-01-04</th>\n",
              "      <td>0.286293</td>\n",
              "      <td>1.291865</td>\n",
              "      <td>0.031089</td>\n",
              "      <td>0.245547</td>\n",
              "      <td>5.0</td>\n",
              "    </tr>\n",
              "  </tbody>\n",
              "</table>\n",
              "</div>"
            ],
            "text/plain": [
              "                   A         B         C         D    E\n",
              "2013-01-01  1.292115  0.289799 -0.723365 -0.893310  1.0\n",
              "2013-01-02  0.440916 -0.427367  1.447762  0.494468  1.0\n",
              "2013-01-03  1.177105 -1.011475 -0.700117 -0.546313  5.0\n",
              "2013-01-04  0.286293  1.291865  0.031089  0.245547  5.0"
            ]
          },
          "metadata": {},
          "execution_count": 46
        }
      ]
    },
    {
      "cell_type": "code",
      "metadata": {
        "colab": {
          "base_uri": "https://localhost:8080/",
          "height": 175
        },
        "id": "pM5P2DEtGHdC",
        "outputId": "9ef0bfb1-937a-42d2-b51a-8d3544190a13"
      },
      "source": [
        "pd.isna(df1)"
      ],
      "execution_count": 47,
      "outputs": [
        {
          "output_type": "execute_result",
          "data": {
            "text/html": [
              "<div>\n",
              "<style scoped>\n",
              "    .dataframe tbody tr th:only-of-type {\n",
              "        vertical-align: middle;\n",
              "    }\n",
              "\n",
              "    .dataframe tbody tr th {\n",
              "        vertical-align: top;\n",
              "    }\n",
              "\n",
              "    .dataframe thead th {\n",
              "        text-align: right;\n",
              "    }\n",
              "</style>\n",
              "<table border=\"1\" class=\"dataframe\">\n",
              "  <thead>\n",
              "    <tr style=\"text-align: right;\">\n",
              "      <th></th>\n",
              "      <th>A</th>\n",
              "      <th>B</th>\n",
              "      <th>C</th>\n",
              "      <th>D</th>\n",
              "      <th>E</th>\n",
              "    </tr>\n",
              "  </thead>\n",
              "  <tbody>\n",
              "    <tr>\n",
              "      <th>2013-01-01</th>\n",
              "      <td>False</td>\n",
              "      <td>False</td>\n",
              "      <td>False</td>\n",
              "      <td>False</td>\n",
              "      <td>False</td>\n",
              "    </tr>\n",
              "    <tr>\n",
              "      <th>2013-01-02</th>\n",
              "      <td>False</td>\n",
              "      <td>False</td>\n",
              "      <td>False</td>\n",
              "      <td>False</td>\n",
              "      <td>False</td>\n",
              "    </tr>\n",
              "    <tr>\n",
              "      <th>2013-01-03</th>\n",
              "      <td>False</td>\n",
              "      <td>False</td>\n",
              "      <td>False</td>\n",
              "      <td>False</td>\n",
              "      <td>True</td>\n",
              "    </tr>\n",
              "    <tr>\n",
              "      <th>2013-01-04</th>\n",
              "      <td>False</td>\n",
              "      <td>False</td>\n",
              "      <td>False</td>\n",
              "      <td>False</td>\n",
              "      <td>True</td>\n",
              "    </tr>\n",
              "  </tbody>\n",
              "</table>\n",
              "</div>"
            ],
            "text/plain": [
              "                A      B      C      D      E\n",
              "2013-01-01  False  False  False  False  False\n",
              "2013-01-02  False  False  False  False  False\n",
              "2013-01-03  False  False  False  False   True\n",
              "2013-01-04  False  False  False  False   True"
            ]
          },
          "metadata": {},
          "execution_count": 47
        }
      ]
    },
    {
      "cell_type": "code",
      "metadata": {
        "colab": {
          "base_uri": "https://localhost:8080/"
        },
        "id": "ScRfeixsGIuG",
        "outputId": "bf4505ca-2d85-49c9-8098-f7855d9ffa2b"
      },
      "source": [
        "df.mean()"
      ],
      "execution_count": 48,
      "outputs": [
        {
          "output_type": "execute_result",
          "data": {
            "text/plain": [
              "A    0.999027\n",
              "B   -0.181618\n",
              "C    0.084772\n",
              "D    0.063209\n",
              "dtype: float64"
            ]
          },
          "metadata": {},
          "execution_count": 48
        }
      ]
    },
    {
      "cell_type": "code",
      "metadata": {
        "colab": {
          "base_uri": "https://localhost:8080/"
        },
        "id": "euFc6mbBGKdn",
        "outputId": "834e8d1f-6294-45ea-9629-0fa8bc84c77d"
      },
      "source": [
        "df.mean(1)"
      ],
      "execution_count": 51,
      "outputs": [
        {
          "output_type": "execute_result",
          "data": {
            "text/plain": [
              "2013-01-01   -0.008690\n",
              "2013-01-02    0.488945\n",
              "2013-01-03   -0.270200\n",
              "2013-01-04    0.463699\n",
              "2013-01-05    0.575625\n",
              "2013-01-06    0.198708\n",
              "Freq: D, dtype: float64"
            ]
          },
          "metadata": {},
          "execution_count": 51
        }
      ]
    },
    {
      "cell_type": "code",
      "metadata": {
        "colab": {
          "base_uri": "https://localhost:8080/"
        },
        "id": "UhYcay1sGL3i",
        "outputId": "ff47edab-1273-4a45-9499-935f727a5676"
      },
      "source": [
        "s=pd.Series([1,3,5,np.nan,6,8],index=dates).shift(2)\n",
        "s"
      ],
      "execution_count": 52,
      "outputs": [
        {
          "output_type": "execute_result",
          "data": {
            "text/plain": [
              "2013-01-01    NaN\n",
              "2013-01-02    NaN\n",
              "2013-01-03    1.0\n",
              "2013-01-04    3.0\n",
              "2013-01-05    5.0\n",
              "2013-01-06    NaN\n",
              "Freq: D, dtype: float64"
            ]
          },
          "metadata": {},
          "execution_count": 52
        }
      ]
    },
    {
      "cell_type": "code",
      "metadata": {
        "colab": {
          "base_uri": "https://localhost:8080/",
          "height": 237
        },
        "id": "4u9Al02QGQpD",
        "outputId": "e0ae1c66-13f3-4a41-a875-1ddf0a54f140"
      },
      "source": [
        "df.sub(s,axis=\"index\")"
      ],
      "execution_count": 53,
      "outputs": [
        {
          "output_type": "execute_result",
          "data": {
            "text/html": [
              "<div>\n",
              "<style scoped>\n",
              "    .dataframe tbody tr th:only-of-type {\n",
              "        vertical-align: middle;\n",
              "    }\n",
              "\n",
              "    .dataframe tbody tr th {\n",
              "        vertical-align: top;\n",
              "    }\n",
              "\n",
              "    .dataframe thead th {\n",
              "        text-align: right;\n",
              "    }\n",
              "</style>\n",
              "<table border=\"1\" class=\"dataframe\">\n",
              "  <thead>\n",
              "    <tr style=\"text-align: right;\">\n",
              "      <th></th>\n",
              "      <th>A</th>\n",
              "      <th>B</th>\n",
              "      <th>C</th>\n",
              "      <th>D</th>\n",
              "    </tr>\n",
              "  </thead>\n",
              "  <tbody>\n",
              "    <tr>\n",
              "      <th>2013-01-01</th>\n",
              "      <td>NaN</td>\n",
              "      <td>NaN</td>\n",
              "      <td>NaN</td>\n",
              "      <td>NaN</td>\n",
              "    </tr>\n",
              "    <tr>\n",
              "      <th>2013-01-02</th>\n",
              "      <td>NaN</td>\n",
              "      <td>NaN</td>\n",
              "      <td>NaN</td>\n",
              "      <td>NaN</td>\n",
              "    </tr>\n",
              "    <tr>\n",
              "      <th>2013-01-03</th>\n",
              "      <td>0.177105</td>\n",
              "      <td>-2.011475</td>\n",
              "      <td>-1.700117</td>\n",
              "      <td>-1.546313</td>\n",
              "    </tr>\n",
              "    <tr>\n",
              "      <th>2013-01-04</th>\n",
              "      <td>-2.713707</td>\n",
              "      <td>-1.708135</td>\n",
              "      <td>-2.968911</td>\n",
              "      <td>-2.754453</td>\n",
              "    </tr>\n",
              "    <tr>\n",
              "      <th>2013-01-05</th>\n",
              "      <td>-4.783939</td>\n",
              "      <td>-4.059135</td>\n",
              "      <td>-4.657509</td>\n",
              "      <td>-4.196919</td>\n",
              "    </tr>\n",
              "    <tr>\n",
              "      <th>2013-01-06</th>\n",
              "      <td>NaN</td>\n",
              "      <td>NaN</td>\n",
              "      <td>NaN</td>\n",
              "      <td>NaN</td>\n",
              "    </tr>\n",
              "  </tbody>\n",
              "</table>\n",
              "</div>"
            ],
            "text/plain": [
              "                   A         B         C         D\n",
              "2013-01-01       NaN       NaN       NaN       NaN\n",
              "2013-01-02       NaN       NaN       NaN       NaN\n",
              "2013-01-03  0.177105 -2.011475 -1.700117 -1.546313\n",
              "2013-01-04 -2.713707 -1.708135 -2.968911 -2.754453\n",
              "2013-01-05 -4.783939 -4.059135 -4.657509 -4.196919\n",
              "2013-01-06       NaN       NaN       NaN       NaN"
            ]
          },
          "metadata": {},
          "execution_count": 53
        }
      ]
    },
    {
      "cell_type": "code",
      "metadata": {
        "colab": {
          "base_uri": "https://localhost:8080/",
          "height": 237
        },
        "id": "3n83isfaGSrR",
        "outputId": "e97ff86d-e2d6-4fed-e410-1cee598a26b3"
      },
      "source": [
        "df.apply(np.cumsum)"
      ],
      "execution_count": 54,
      "outputs": [
        {
          "output_type": "execute_result",
          "data": {
            "text/html": [
              "<div>\n",
              "<style scoped>\n",
              "    .dataframe tbody tr th:only-of-type {\n",
              "        vertical-align: middle;\n",
              "    }\n",
              "\n",
              "    .dataframe tbody tr th {\n",
              "        vertical-align: top;\n",
              "    }\n",
              "\n",
              "    .dataframe thead th {\n",
              "        text-align: right;\n",
              "    }\n",
              "</style>\n",
              "<table border=\"1\" class=\"dataframe\">\n",
              "  <thead>\n",
              "    <tr style=\"text-align: right;\">\n",
              "      <th></th>\n",
              "      <th>A</th>\n",
              "      <th>B</th>\n",
              "      <th>C</th>\n",
              "      <th>D</th>\n",
              "    </tr>\n",
              "  </thead>\n",
              "  <tbody>\n",
              "    <tr>\n",
              "      <th>2013-01-01</th>\n",
              "      <td>1.292115</td>\n",
              "      <td>0.289799</td>\n",
              "      <td>-0.723365</td>\n",
              "      <td>-0.893310</td>\n",
              "    </tr>\n",
              "    <tr>\n",
              "      <th>2013-01-02</th>\n",
              "      <td>1.733031</td>\n",
              "      <td>-0.137568</td>\n",
              "      <td>0.724397</td>\n",
              "      <td>-0.398842</td>\n",
              "    </tr>\n",
              "    <tr>\n",
              "      <th>2013-01-03</th>\n",
              "      <td>2.910136</td>\n",
              "      <td>-1.149043</td>\n",
              "      <td>0.024280</td>\n",
              "      <td>-0.945154</td>\n",
              "    </tr>\n",
              "    <tr>\n",
              "      <th>2013-01-04</th>\n",
              "      <td>3.196429</td>\n",
              "      <td>0.142822</td>\n",
              "      <td>0.055369</td>\n",
              "      <td>-0.699608</td>\n",
              "    </tr>\n",
              "    <tr>\n",
              "      <th>2013-01-05</th>\n",
              "      <td>3.412490</td>\n",
              "      <td>1.083687</td>\n",
              "      <td>0.397861</td>\n",
              "      <td>0.103473</td>\n",
              "    </tr>\n",
              "    <tr>\n",
              "      <th>2013-01-06</th>\n",
              "      <td>5.994163</td>\n",
              "      <td>-1.089709</td>\n",
              "      <td>0.508634</td>\n",
              "      <td>0.379256</td>\n",
              "    </tr>\n",
              "  </tbody>\n",
              "</table>\n",
              "</div>"
            ],
            "text/plain": [
              "                   A         B         C         D\n",
              "2013-01-01  1.292115  0.289799 -0.723365 -0.893310\n",
              "2013-01-02  1.733031 -0.137568  0.724397 -0.398842\n",
              "2013-01-03  2.910136 -1.149043  0.024280 -0.945154\n",
              "2013-01-04  3.196429  0.142822  0.055369 -0.699608\n",
              "2013-01-05  3.412490  1.083687  0.397861  0.103473\n",
              "2013-01-06  5.994163 -1.089709  0.508634  0.379256"
            ]
          },
          "metadata": {},
          "execution_count": 54
        }
      ]
    },
    {
      "cell_type": "code",
      "metadata": {
        "colab": {
          "base_uri": "https://localhost:8080/"
        },
        "id": "ozgcRXcXGUGZ",
        "outputId": "0f4608ca-9b81-4255-cd79-d60adc33b402"
      },
      "source": [
        "df.apply(lambda x:x.max()-x.min())"
      ],
      "execution_count": 55,
      "outputs": [
        {
          "output_type": "execute_result",
          "data": {
            "text/plain": [
              "A    2.365612\n",
              "B    3.465262\n",
              "C    2.171127\n",
              "D    1.696391\n",
              "dtype: float64"
            ]
          },
          "metadata": {},
          "execution_count": 55
        }
      ]
    },
    {
      "cell_type": "code",
      "metadata": {
        "colab": {
          "base_uri": "https://localhost:8080/"
        },
        "id": "zSahaj5GGVT6",
        "outputId": "af2725fb-ec54-4178-e503-99c80d5d827d"
      },
      "source": [
        "s=pd.Series([\"A\",\"B\",\"C\",\"Abba\",\"Baca\",\"CAAB\",\"dogs\",\"cats\"])\n",
        "s.str.lower()"
      ],
      "execution_count": 56,
      "outputs": [
        {
          "output_type": "execute_result",
          "data": {
            "text/plain": [
              "0       a\n",
              "1       b\n",
              "2       c\n",
              "3    abba\n",
              "4    baca\n",
              "5    caab\n",
              "6    dogs\n",
              "7    cats\n",
              "dtype: object"
            ]
          },
          "metadata": {},
          "execution_count": 56
        }
      ]
    },
    {
      "cell_type": "code",
      "metadata": {
        "colab": {
          "base_uri": "https://localhost:8080/",
          "height": 363
        },
        "id": "CwU7_l4VGa7_",
        "outputId": "a795c15b-c858-49f4-f9fd-f68eafacedab"
      },
      "source": [
        "df=pd.DataFrame(np.random.randn(10,4))\n",
        "df"
      ],
      "execution_count": 57,
      "outputs": [
        {
          "output_type": "execute_result",
          "data": {
            "text/html": [
              "<div>\n",
              "<style scoped>\n",
              "    .dataframe tbody tr th:only-of-type {\n",
              "        vertical-align: middle;\n",
              "    }\n",
              "\n",
              "    .dataframe tbody tr th {\n",
              "        vertical-align: top;\n",
              "    }\n",
              "\n",
              "    .dataframe thead th {\n",
              "        text-align: right;\n",
              "    }\n",
              "</style>\n",
              "<table border=\"1\" class=\"dataframe\">\n",
              "  <thead>\n",
              "    <tr style=\"text-align: right;\">\n",
              "      <th></th>\n",
              "      <th>0</th>\n",
              "      <th>1</th>\n",
              "      <th>2</th>\n",
              "      <th>3</th>\n",
              "    </tr>\n",
              "  </thead>\n",
              "  <tbody>\n",
              "    <tr>\n",
              "      <th>0</th>\n",
              "      <td>0.534666</td>\n",
              "      <td>0.472017</td>\n",
              "      <td>-0.562538</td>\n",
              "      <td>-0.904905</td>\n",
              "    </tr>\n",
              "    <tr>\n",
              "      <th>1</th>\n",
              "      <td>0.452092</td>\n",
              "      <td>0.446017</td>\n",
              "      <td>0.239438</td>\n",
              "      <td>0.182036</td>\n",
              "    </tr>\n",
              "    <tr>\n",
              "      <th>2</th>\n",
              "      <td>0.156015</td>\n",
              "      <td>0.390850</td>\n",
              "      <td>1.614807</td>\n",
              "      <td>1.684399</td>\n",
              "    </tr>\n",
              "    <tr>\n",
              "      <th>3</th>\n",
              "      <td>-1.778667</td>\n",
              "      <td>-1.319559</td>\n",
              "      <td>1.146596</td>\n",
              "      <td>0.240595</td>\n",
              "    </tr>\n",
              "    <tr>\n",
              "      <th>4</th>\n",
              "      <td>0.680635</td>\n",
              "      <td>-0.317946</td>\n",
              "      <td>-0.222734</td>\n",
              "      <td>-0.502265</td>\n",
              "    </tr>\n",
              "    <tr>\n",
              "      <th>5</th>\n",
              "      <td>1.255740</td>\n",
              "      <td>0.434019</td>\n",
              "      <td>0.047692</td>\n",
              "      <td>0.273430</td>\n",
              "    </tr>\n",
              "    <tr>\n",
              "      <th>6</th>\n",
              "      <td>0.643651</td>\n",
              "      <td>-1.517443</td>\n",
              "      <td>0.316302</td>\n",
              "      <td>2.233076</td>\n",
              "    </tr>\n",
              "    <tr>\n",
              "      <th>7</th>\n",
              "      <td>-0.085747</td>\n",
              "      <td>-0.679968</td>\n",
              "      <td>-0.250194</td>\n",
              "      <td>0.828168</td>\n",
              "    </tr>\n",
              "    <tr>\n",
              "      <th>8</th>\n",
              "      <td>-0.119104</td>\n",
              "      <td>2.340958</td>\n",
              "      <td>-0.073592</td>\n",
              "      <td>0.908846</td>\n",
              "    </tr>\n",
              "    <tr>\n",
              "      <th>9</th>\n",
              "      <td>-0.748934</td>\n",
              "      <td>1.186628</td>\n",
              "      <td>-0.553762</td>\n",
              "      <td>-0.583409</td>\n",
              "    </tr>\n",
              "  </tbody>\n",
              "</table>\n",
              "</div>"
            ],
            "text/plain": [
              "          0         1         2         3\n",
              "0  0.534666  0.472017 -0.562538 -0.904905\n",
              "1  0.452092  0.446017  0.239438  0.182036\n",
              "2  0.156015  0.390850  1.614807  1.684399\n",
              "3 -1.778667 -1.319559  1.146596  0.240595\n",
              "4  0.680635 -0.317946 -0.222734 -0.502265\n",
              "5  1.255740  0.434019  0.047692  0.273430\n",
              "6  0.643651 -1.517443  0.316302  2.233076\n",
              "7 -0.085747 -0.679968 -0.250194  0.828168\n",
              "8 -0.119104  2.340958 -0.073592  0.908846\n",
              "9 -0.748934  1.186628 -0.553762 -0.583409"
            ]
          },
          "metadata": {},
          "execution_count": 57
        }
      ]
    },
    {
      "cell_type": "code",
      "metadata": {
        "colab": {
          "base_uri": "https://localhost:8080/"
        },
        "id": "753JMlXbGdCr",
        "outputId": "f2de80c8-13ac-4971-d67e-ddc4d69d3a19"
      },
      "source": [
        "pieces=[df[:3],df[3:7],df[7:]]\n",
        "pieces"
      ],
      "execution_count": 58,
      "outputs": [
        {
          "output_type": "execute_result",
          "data": {
            "text/plain": [
              "[          0         1         2         3\n",
              " 0  0.534666  0.472017 -0.562538 -0.904905\n",
              " 1  0.452092  0.446017  0.239438  0.182036\n",
              " 2  0.156015  0.390850  1.614807  1.684399,\n",
              "           0         1         2         3\n",
              " 3 -1.778667 -1.319559  1.146596  0.240595\n",
              " 4  0.680635 -0.317946 -0.222734 -0.502265\n",
              " 5  1.255740  0.434019  0.047692  0.273430\n",
              " 6  0.643651 -1.517443  0.316302  2.233076,\n",
              "           0         1         2         3\n",
              " 7 -0.085747 -0.679968 -0.250194  0.828168\n",
              " 8 -0.119104  2.340958 -0.073592  0.908846\n",
              " 9 -0.748934  1.186628 -0.553762 -0.583409]"
            ]
          },
          "metadata": {},
          "execution_count": 58
        }
      ]
    },
    {
      "cell_type": "code",
      "metadata": {
        "colab": {
          "base_uri": "https://localhost:8080/",
          "height": 363
        },
        "id": "SNKDYpViGee_",
        "outputId": "5ceea2d2-11e2-4742-d377-d9dd07119e18"
      },
      "source": [
        "pd.concat(pieces)"
      ],
      "execution_count": 59,
      "outputs": [
        {
          "output_type": "execute_result",
          "data": {
            "text/html": [
              "<div>\n",
              "<style scoped>\n",
              "    .dataframe tbody tr th:only-of-type {\n",
              "        vertical-align: middle;\n",
              "    }\n",
              "\n",
              "    .dataframe tbody tr th {\n",
              "        vertical-align: top;\n",
              "    }\n",
              "\n",
              "    .dataframe thead th {\n",
              "        text-align: right;\n",
              "    }\n",
              "</style>\n",
              "<table border=\"1\" class=\"dataframe\">\n",
              "  <thead>\n",
              "    <tr style=\"text-align: right;\">\n",
              "      <th></th>\n",
              "      <th>0</th>\n",
              "      <th>1</th>\n",
              "      <th>2</th>\n",
              "      <th>3</th>\n",
              "    </tr>\n",
              "  </thead>\n",
              "  <tbody>\n",
              "    <tr>\n",
              "      <th>0</th>\n",
              "      <td>0.534666</td>\n",
              "      <td>0.472017</td>\n",
              "      <td>-0.562538</td>\n",
              "      <td>-0.904905</td>\n",
              "    </tr>\n",
              "    <tr>\n",
              "      <th>1</th>\n",
              "      <td>0.452092</td>\n",
              "      <td>0.446017</td>\n",
              "      <td>0.239438</td>\n",
              "      <td>0.182036</td>\n",
              "    </tr>\n",
              "    <tr>\n",
              "      <th>2</th>\n",
              "      <td>0.156015</td>\n",
              "      <td>0.390850</td>\n",
              "      <td>1.614807</td>\n",
              "      <td>1.684399</td>\n",
              "    </tr>\n",
              "    <tr>\n",
              "      <th>3</th>\n",
              "      <td>-1.778667</td>\n",
              "      <td>-1.319559</td>\n",
              "      <td>1.146596</td>\n",
              "      <td>0.240595</td>\n",
              "    </tr>\n",
              "    <tr>\n",
              "      <th>4</th>\n",
              "      <td>0.680635</td>\n",
              "      <td>-0.317946</td>\n",
              "      <td>-0.222734</td>\n",
              "      <td>-0.502265</td>\n",
              "    </tr>\n",
              "    <tr>\n",
              "      <th>5</th>\n",
              "      <td>1.255740</td>\n",
              "      <td>0.434019</td>\n",
              "      <td>0.047692</td>\n",
              "      <td>0.273430</td>\n",
              "    </tr>\n",
              "    <tr>\n",
              "      <th>6</th>\n",
              "      <td>0.643651</td>\n",
              "      <td>-1.517443</td>\n",
              "      <td>0.316302</td>\n",
              "      <td>2.233076</td>\n",
              "    </tr>\n",
              "    <tr>\n",
              "      <th>7</th>\n",
              "      <td>-0.085747</td>\n",
              "      <td>-0.679968</td>\n",
              "      <td>-0.250194</td>\n",
              "      <td>0.828168</td>\n",
              "    </tr>\n",
              "    <tr>\n",
              "      <th>8</th>\n",
              "      <td>-0.119104</td>\n",
              "      <td>2.340958</td>\n",
              "      <td>-0.073592</td>\n",
              "      <td>0.908846</td>\n",
              "    </tr>\n",
              "    <tr>\n",
              "      <th>9</th>\n",
              "      <td>-0.748934</td>\n",
              "      <td>1.186628</td>\n",
              "      <td>-0.553762</td>\n",
              "      <td>-0.583409</td>\n",
              "    </tr>\n",
              "  </tbody>\n",
              "</table>\n",
              "</div>"
            ],
            "text/plain": [
              "          0         1         2         3\n",
              "0  0.534666  0.472017 -0.562538 -0.904905\n",
              "1  0.452092  0.446017  0.239438  0.182036\n",
              "2  0.156015  0.390850  1.614807  1.684399\n",
              "3 -1.778667 -1.319559  1.146596  0.240595\n",
              "4  0.680635 -0.317946 -0.222734 -0.502265\n",
              "5  1.255740  0.434019  0.047692  0.273430\n",
              "6  0.643651 -1.517443  0.316302  2.233076\n",
              "7 -0.085747 -0.679968 -0.250194  0.828168\n",
              "8 -0.119104  2.340958 -0.073592  0.908846\n",
              "9 -0.748934  1.186628 -0.553762 -0.583409"
            ]
          },
          "metadata": {},
          "execution_count": 59
        }
      ]
    },
    {
      "cell_type": "code",
      "metadata": {
        "colab": {
          "base_uri": "https://localhost:8080/",
          "height": 300
        },
        "id": "uj3w00voGfy8",
        "outputId": "5c46d06e-a53c-40ca-97b7-ca8695935949"
      },
      "source": [
        "  df=pd.DataFrame({\n",
        "      \"A\":[\"foo\",\"bar\",\"foo\",\"bar\",\"bar\",\"bar\",\"foo\",\"foo\"],\n",
        "      \"B\":[\"one\",\"one\",\"three\",\"three\",\"two\",\"two\",\"one\",\"three\"],\n",
        "      \"C\":np.random.randn(8),\n",
        "      \"D\":np.random.randn(8)\n",
        "  })\n",
        "  df"
      ],
      "execution_count": 60,
      "outputs": [
        {
          "output_type": "execute_result",
          "data": {
            "text/html": [
              "<div>\n",
              "<style scoped>\n",
              "    .dataframe tbody tr th:only-of-type {\n",
              "        vertical-align: middle;\n",
              "    }\n",
              "\n",
              "    .dataframe tbody tr th {\n",
              "        vertical-align: top;\n",
              "    }\n",
              "\n",
              "    .dataframe thead th {\n",
              "        text-align: right;\n",
              "    }\n",
              "</style>\n",
              "<table border=\"1\" class=\"dataframe\">\n",
              "  <thead>\n",
              "    <tr style=\"text-align: right;\">\n",
              "      <th></th>\n",
              "      <th>A</th>\n",
              "      <th>B</th>\n",
              "      <th>C</th>\n",
              "      <th>D</th>\n",
              "    </tr>\n",
              "  </thead>\n",
              "  <tbody>\n",
              "    <tr>\n",
              "      <th>0</th>\n",
              "      <td>foo</td>\n",
              "      <td>one</td>\n",
              "      <td>-0.212547</td>\n",
              "      <td>0.629202</td>\n",
              "    </tr>\n",
              "    <tr>\n",
              "      <th>1</th>\n",
              "      <td>bar</td>\n",
              "      <td>one</td>\n",
              "      <td>-0.678898</td>\n",
              "      <td>0.196456</td>\n",
              "    </tr>\n",
              "    <tr>\n",
              "      <th>2</th>\n",
              "      <td>foo</td>\n",
              "      <td>three</td>\n",
              "      <td>-0.846060</td>\n",
              "      <td>-0.813368</td>\n",
              "    </tr>\n",
              "    <tr>\n",
              "      <th>3</th>\n",
              "      <td>bar</td>\n",
              "      <td>three</td>\n",
              "      <td>-2.083751</td>\n",
              "      <td>0.196846</td>\n",
              "    </tr>\n",
              "    <tr>\n",
              "      <th>4</th>\n",
              "      <td>bar</td>\n",
              "      <td>two</td>\n",
              "      <td>-0.172081</td>\n",
              "      <td>2.137274</td>\n",
              "    </tr>\n",
              "    <tr>\n",
              "      <th>5</th>\n",
              "      <td>bar</td>\n",
              "      <td>two</td>\n",
              "      <td>2.065418</td>\n",
              "      <td>-0.954585</td>\n",
              "    </tr>\n",
              "    <tr>\n",
              "      <th>6</th>\n",
              "      <td>foo</td>\n",
              "      <td>one</td>\n",
              "      <td>-0.808976</td>\n",
              "      <td>-1.074858</td>\n",
              "    </tr>\n",
              "    <tr>\n",
              "      <th>7</th>\n",
              "      <td>foo</td>\n",
              "      <td>three</td>\n",
              "      <td>-0.945045</td>\n",
              "      <td>0.228621</td>\n",
              "    </tr>\n",
              "  </tbody>\n",
              "</table>\n",
              "</div>"
            ],
            "text/plain": [
              "     A      B         C         D\n",
              "0  foo    one -0.212547  0.629202\n",
              "1  bar    one -0.678898  0.196456\n",
              "2  foo  three -0.846060 -0.813368\n",
              "3  bar  three -2.083751  0.196846\n",
              "4  bar    two -0.172081  2.137274\n",
              "5  bar    two  2.065418 -0.954585\n",
              "6  foo    one -0.808976 -1.074858\n",
              "7  foo  three -0.945045  0.228621"
            ]
          },
          "metadata": {},
          "execution_count": 60
        }
      ]
    },
    {
      "cell_type": "code",
      "metadata": {
        "colab": {
          "base_uri": "https://localhost:8080/",
          "height": 237
        },
        "id": "NBBpz0qKGoTE",
        "outputId": "84cfe391-44c2-445e-a299-e9fbf6a80bf1"
      },
      "source": [
        "df=pd.DataFrame({\"id\":[1,2,3,4,5,6],\"raw_grade\":[\"a\",\"b\",\"b\",\"c\",\"a\",\"f\"]})\n",
        "df"
      ],
      "execution_count": 63,
      "outputs": [
        {
          "output_type": "execute_result",
          "data": {
            "text/html": [
              "<div>\n",
              "<style scoped>\n",
              "    .dataframe tbody tr th:only-of-type {\n",
              "        vertical-align: middle;\n",
              "    }\n",
              "\n",
              "    .dataframe tbody tr th {\n",
              "        vertical-align: top;\n",
              "    }\n",
              "\n",
              "    .dataframe thead th {\n",
              "        text-align: right;\n",
              "    }\n",
              "</style>\n",
              "<table border=\"1\" class=\"dataframe\">\n",
              "  <thead>\n",
              "    <tr style=\"text-align: right;\">\n",
              "      <th></th>\n",
              "      <th>id</th>\n",
              "      <th>raw_grade</th>\n",
              "    </tr>\n",
              "  </thead>\n",
              "  <tbody>\n",
              "    <tr>\n",
              "      <th>0</th>\n",
              "      <td>1</td>\n",
              "      <td>a</td>\n",
              "    </tr>\n",
              "    <tr>\n",
              "      <th>1</th>\n",
              "      <td>2</td>\n",
              "      <td>b</td>\n",
              "    </tr>\n",
              "    <tr>\n",
              "      <th>2</th>\n",
              "      <td>3</td>\n",
              "      <td>b</td>\n",
              "    </tr>\n",
              "    <tr>\n",
              "      <th>3</th>\n",
              "      <td>4</td>\n",
              "      <td>c</td>\n",
              "    </tr>\n",
              "    <tr>\n",
              "      <th>4</th>\n",
              "      <td>5</td>\n",
              "      <td>a</td>\n",
              "    </tr>\n",
              "    <tr>\n",
              "      <th>5</th>\n",
              "      <td>6</td>\n",
              "      <td>f</td>\n",
              "    </tr>\n",
              "  </tbody>\n",
              "</table>\n",
              "</div>"
            ],
            "text/plain": [
              "   id raw_grade\n",
              "0   1         a\n",
              "1   2         b\n",
              "2   3         b\n",
              "3   4         c\n",
              "4   5         a\n",
              "5   6         f"
            ]
          },
          "metadata": {},
          "execution_count": 63
        }
      ]
    },
    {
      "cell_type": "code",
      "metadata": {
        "colab": {
          "base_uri": "https://localhost:8080/",
          "height": 237
        },
        "id": "H8Nvj0THGp9W",
        "outputId": "2a525521-868f-44e2-f1fd-060823c93ae6"
      },
      "source": [
        "df[\"grade\"]=df[\"raw_grade\"].astype(\"category\")\n",
        "df"
      ],
      "execution_count": 64,
      "outputs": [
        {
          "output_type": "execute_result",
          "data": {
            "text/html": [
              "<div>\n",
              "<style scoped>\n",
              "    .dataframe tbody tr th:only-of-type {\n",
              "        vertical-align: middle;\n",
              "    }\n",
              "\n",
              "    .dataframe tbody tr th {\n",
              "        vertical-align: top;\n",
              "    }\n",
              "\n",
              "    .dataframe thead th {\n",
              "        text-align: right;\n",
              "    }\n",
              "</style>\n",
              "<table border=\"1\" class=\"dataframe\">\n",
              "  <thead>\n",
              "    <tr style=\"text-align: right;\">\n",
              "      <th></th>\n",
              "      <th>id</th>\n",
              "      <th>raw_grade</th>\n",
              "      <th>grade</th>\n",
              "    </tr>\n",
              "  </thead>\n",
              "  <tbody>\n",
              "    <tr>\n",
              "      <th>0</th>\n",
              "      <td>1</td>\n",
              "      <td>a</td>\n",
              "      <td>a</td>\n",
              "    </tr>\n",
              "    <tr>\n",
              "      <th>1</th>\n",
              "      <td>2</td>\n",
              "      <td>b</td>\n",
              "      <td>b</td>\n",
              "    </tr>\n",
              "    <tr>\n",
              "      <th>2</th>\n",
              "      <td>3</td>\n",
              "      <td>b</td>\n",
              "      <td>b</td>\n",
              "    </tr>\n",
              "    <tr>\n",
              "      <th>3</th>\n",
              "      <td>4</td>\n",
              "      <td>c</td>\n",
              "      <td>c</td>\n",
              "    </tr>\n",
              "    <tr>\n",
              "      <th>4</th>\n",
              "      <td>5</td>\n",
              "      <td>a</td>\n",
              "      <td>a</td>\n",
              "    </tr>\n",
              "    <tr>\n",
              "      <th>5</th>\n",
              "      <td>6</td>\n",
              "      <td>f</td>\n",
              "      <td>f</td>\n",
              "    </tr>\n",
              "  </tbody>\n",
              "</table>\n",
              "</div>"
            ],
            "text/plain": [
              "   id raw_grade grade\n",
              "0   1         a     a\n",
              "1   2         b     b\n",
              "2   3         b     b\n",
              "3   4         c     c\n",
              "4   5         a     a\n",
              "5   6         f     f"
            ]
          },
          "metadata": {},
          "execution_count": 64
        }
      ]
    },
    {
      "cell_type": "code",
      "metadata": {
        "colab": {
          "base_uri": "https://localhost:8080/",
          "height": 237
        },
        "id": "038KEIfZGvaA",
        "outputId": "2d9ede4c-1353-4237-c7e5-6889c1bf03b5"
      },
      "source": [
        "df.sort_values(by=\"grade\")"
      ],
      "execution_count": 65,
      "outputs": [
        {
          "output_type": "execute_result",
          "data": {
            "text/html": [
              "<div>\n",
              "<style scoped>\n",
              "    .dataframe tbody tr th:only-of-type {\n",
              "        vertical-align: middle;\n",
              "    }\n",
              "\n",
              "    .dataframe tbody tr th {\n",
              "        vertical-align: top;\n",
              "    }\n",
              "\n",
              "    .dataframe thead th {\n",
              "        text-align: right;\n",
              "    }\n",
              "</style>\n",
              "<table border=\"1\" class=\"dataframe\">\n",
              "  <thead>\n",
              "    <tr style=\"text-align: right;\">\n",
              "      <th></th>\n",
              "      <th>id</th>\n",
              "      <th>raw_grade</th>\n",
              "      <th>grade</th>\n",
              "    </tr>\n",
              "  </thead>\n",
              "  <tbody>\n",
              "    <tr>\n",
              "      <th>0</th>\n",
              "      <td>1</td>\n",
              "      <td>a</td>\n",
              "      <td>a</td>\n",
              "    </tr>\n",
              "    <tr>\n",
              "      <th>4</th>\n",
              "      <td>5</td>\n",
              "      <td>a</td>\n",
              "      <td>a</td>\n",
              "    </tr>\n",
              "    <tr>\n",
              "      <th>1</th>\n",
              "      <td>2</td>\n",
              "      <td>b</td>\n",
              "      <td>b</td>\n",
              "    </tr>\n",
              "    <tr>\n",
              "      <th>2</th>\n",
              "      <td>3</td>\n",
              "      <td>b</td>\n",
              "      <td>b</td>\n",
              "    </tr>\n",
              "    <tr>\n",
              "      <th>3</th>\n",
              "      <td>4</td>\n",
              "      <td>c</td>\n",
              "      <td>c</td>\n",
              "    </tr>\n",
              "    <tr>\n",
              "      <th>5</th>\n",
              "      <td>6</td>\n",
              "      <td>f</td>\n",
              "      <td>f</td>\n",
              "    </tr>\n",
              "  </tbody>\n",
              "</table>\n",
              "</div>"
            ],
            "text/plain": [
              "   id raw_grade grade\n",
              "0   1         a     a\n",
              "4   5         a     a\n",
              "1   2         b     b\n",
              "2   3         b     b\n",
              "3   4         c     c\n",
              "5   6         f     f"
            ]
          },
          "metadata": {},
          "execution_count": 65
        }
      ]
    },
    {
      "cell_type": "code",
      "metadata": {
        "colab": {
          "base_uri": "https://localhost:8080/"
        },
        "id": "OMV8jJsfGw1i",
        "outputId": "f59a9a1c-4327-422c-8760-7cf5e8449f1d"
      },
      "source": [
        "df.groupby(\"grade\").size()"
      ],
      "execution_count": 66,
      "outputs": [
        {
          "output_type": "execute_result",
          "data": {
            "text/plain": [
              "grade\n",
              "a    2\n",
              "b    2\n",
              "c    1\n",
              "f    1\n",
              "dtype: int64"
            ]
          },
          "metadata": {},
          "execution_count": 66
        }
      ]
    },
    {
      "cell_type": "code",
      "metadata": {
        "colab": {
          "base_uri": "https://localhost:8080/",
          "height": 237
        },
        "id": "i7kXw3ZXGx96",
        "outputId": "17a0c2f9-2c10-4dc0-cca3-e45c78db3dcb"
      },
      "source": [
        "df[\"grade\"].cat.categories=[\"very good\",\"good\",\"bad\",\"very bad\"]\n",
        "df"
      ],
      "execution_count": 69,
      "outputs": [
        {
          "output_type": "execute_result",
          "data": {
            "text/html": [
              "<div>\n",
              "<style scoped>\n",
              "    .dataframe tbody tr th:only-of-type {\n",
              "        vertical-align: middle;\n",
              "    }\n",
              "\n",
              "    .dataframe tbody tr th {\n",
              "        vertical-align: top;\n",
              "    }\n",
              "\n",
              "    .dataframe thead th {\n",
              "        text-align: right;\n",
              "    }\n",
              "</style>\n",
              "<table border=\"1\" class=\"dataframe\">\n",
              "  <thead>\n",
              "    <tr style=\"text-align: right;\">\n",
              "      <th></th>\n",
              "      <th>id</th>\n",
              "      <th>raw_grade</th>\n",
              "      <th>grade</th>\n",
              "    </tr>\n",
              "  </thead>\n",
              "  <tbody>\n",
              "    <tr>\n",
              "      <th>0</th>\n",
              "      <td>1</td>\n",
              "      <td>a</td>\n",
              "      <td>very good</td>\n",
              "    </tr>\n",
              "    <tr>\n",
              "      <th>1</th>\n",
              "      <td>2</td>\n",
              "      <td>b</td>\n",
              "      <td>good</td>\n",
              "    </tr>\n",
              "    <tr>\n",
              "      <th>2</th>\n",
              "      <td>3</td>\n",
              "      <td>b</td>\n",
              "      <td>good</td>\n",
              "    </tr>\n",
              "    <tr>\n",
              "      <th>3</th>\n",
              "      <td>4</td>\n",
              "      <td>c</td>\n",
              "      <td>bad</td>\n",
              "    </tr>\n",
              "    <tr>\n",
              "      <th>4</th>\n",
              "      <td>5</td>\n",
              "      <td>a</td>\n",
              "      <td>very good</td>\n",
              "    </tr>\n",
              "    <tr>\n",
              "      <th>5</th>\n",
              "      <td>6</td>\n",
              "      <td>f</td>\n",
              "      <td>very bad</td>\n",
              "    </tr>\n",
              "  </tbody>\n",
              "</table>\n",
              "</div>"
            ],
            "text/plain": [
              "   id raw_grade      grade\n",
              "0   1         a  very good\n",
              "1   2         b       good\n",
              "2   3         b       good\n",
              "3   4         c        bad\n",
              "4   5         a  very good\n",
              "5   6         f   very bad"
            ]
          },
          "metadata": {},
          "execution_count": 69
        }
      ]
    },
    {
      "cell_type": "code",
      "metadata": {
        "id": "-CxcGyxnGy29"
      },
      "source": [
        "df[\"grade\"]=df[\"grade\"].cat.set_categories([\"very bad\",\"bad\",\"medium\",\"good\",\"very good\"])"
      ],
      "execution_count": 70,
      "outputs": []
    },
    {
      "cell_type": "code",
      "metadata": {
        "id": "ic5epLnOHd6M"
      },
      "source": [
        "import matplotlib.pyplot as plt"
      ],
      "execution_count": 71,
      "outputs": []
    },
    {
      "cell_type": "code",
      "metadata": {
        "colab": {
          "base_uri": "https://localhost:8080/"
        },
        "id": "wclohB4NHfIg",
        "outputId": "8786c2df-ae66-4904-9717-462064522d5a"
      },
      "source": [
        "ts=pd.Series(np.random.randn(1000),index=pd.date_range(\"1/1/2000\",periods=1000))\n",
        "ts"
      ],
      "execution_count": 72,
      "outputs": [
        {
          "output_type": "execute_result",
          "data": {
            "text/plain": [
              "2000-01-01    1.024781\n",
              "2000-01-02   -0.420880\n",
              "2000-01-03   -0.158088\n",
              "2000-01-04    1.463599\n",
              "2000-01-05    1.905062\n",
              "                ...   \n",
              "2002-09-22   -1.075176\n",
              "2002-09-23    0.221387\n",
              "2002-09-24    1.555100\n",
              "2002-09-25   -0.778160\n",
              "2002-09-26   -1.281027\n",
              "Freq: D, Length: 1000, dtype: float64"
            ]
          },
          "metadata": {},
          "execution_count": 72
        }
      ]
    },
    {
      "cell_type": "code",
      "metadata": {
        "colab": {
          "base_uri": "https://localhost:8080/"
        },
        "id": "RfvMAEGaHg5q",
        "outputId": "73d8aa1d-0466-4814-ef1b-d5a24ebeabd4"
      },
      "source": [
        "ts=ts.cumsum()\n",
        "ts"
      ],
      "execution_count": 73,
      "outputs": [
        {
          "output_type": "execute_result",
          "data": {
            "text/plain": [
              "2000-01-01     1.024781\n",
              "2000-01-02     0.603901\n",
              "2000-01-03     0.445813\n",
              "2000-01-04     1.909412\n",
              "2000-01-05     3.814474\n",
              "                ...    \n",
              "2002-09-22   -23.552546\n",
              "2002-09-23   -23.331159\n",
              "2002-09-24   -21.776059\n",
              "2002-09-25   -22.554219\n",
              "2002-09-26   -23.835246\n",
              "Freq: D, Length: 1000, dtype: float64"
            ]
          },
          "metadata": {},
          "execution_count": 73
        }
      ]
    },
    {
      "cell_type": "code",
      "metadata": {
        "colab": {
          "base_uri": "https://localhost:8080/",
          "height": 297
        },
        "id": "KrZuRj6xHib6",
        "outputId": "ba5ff83c-9d52-43ce-bfab-b97ac0b412cd"
      },
      "source": [
        "ts.plot()"
      ],
      "execution_count": 74,
      "outputs": [
        {
          "output_type": "execute_result",
          "data": {
            "text/plain": [
              "<matplotlib.axes._subplots.AxesSubplot at 0x7f224541e610>"
            ]
          },
          "metadata": {},
          "execution_count": 74
        },
        {
          "output_type": "display_data",
          "data": {
            "image/png": "[encoded data removed]",
            "text/plain": [
              "<Figure size 432x288 with 1 Axes>"
            ]
          },
          "metadata": {
            "needs_background": "light"
          }
        }
      ]
    },
    {
      "cell_type": "code",
      "metadata": {
        "colab": {
          "base_uri": "https://localhost:8080/",
          "height": 423
        },
        "id": "BPjB5ilxHjpY",
        "outputId": "a8f5df9d-9750-4cfc-d94c-2b161c3e41dd"
      },
      "source": [
        "df=pd.DataFrame(np.random.randn(1000,4),index=ts.index,columns=[\"A\",\"B\",\"C\",\"D\"])\n",
        "df"
      ],
      "execution_count": 75,
      "outputs": [
        {
          "output_type": "execute_result",
          "data": {
            "text/html": [
              "<div>\n",
              "<style scoped>\n",
              "    .dataframe tbody tr th:only-of-type {\n",
              "        vertical-align: middle;\n",
              "    }\n",
              "\n",
              "    .dataframe tbody tr th {\n",
              "        vertical-align: top;\n",
              "    }\n",
              "\n",
              "    .dataframe thead th {\n",
              "        text-align: right;\n",
              "    }\n",
              "</style>\n",
              "<table border=\"1\" class=\"dataframe\">\n",
              "  <thead>\n",
              "    <tr style=\"text-align: right;\">\n",
              "      <th></th>\n",
              "      <th>A</th>\n",
              "      <th>B</th>\n",
              "      <th>C</th>\n",
              "      <th>D</th>\n",
              "    </tr>\n",
              "  </thead>\n",
              "  <tbody>\n",
              "    <tr>\n",
              "      <th>2000-01-01</th>\n",
              "      <td>-0.119888</td>\n",
              "      <td>1.492225</td>\n",
              "      <td>0.133262</td>\n",
              "      <td>-0.566065</td>\n",
              "    </tr>\n",
              "    <tr>\n",
              "      <th>2000-01-02</th>\n",
              "      <td>0.369595</td>\n",
              "      <td>0.624442</td>\n",
              "      <td>-0.104039</td>\n",
              "      <td>-0.876333</td>\n",
              "    </tr>\n",
              "    <tr>\n",
              "      <th>2000-01-03</th>\n",
              "      <td>1.172356</td>\n",
              "      <td>-0.819494</td>\n",
              "      <td>1.431728</td>\n",
              "      <td>0.080109</td>\n",
              "    </tr>\n",
              "    <tr>\n",
              "      <th>2000-01-04</th>\n",
              "      <td>-0.364053</td>\n",
              "      <td>0.617033</td>\n",
              "      <td>1.831509</td>\n",
              "      <td>-1.609905</td>\n",
              "    </tr>\n",
              "    <tr>\n",
              "      <th>2000-01-05</th>\n",
              "      <td>-1.391311</td>\n",
              "      <td>0.548078</td>\n",
              "      <td>0.568815</td>\n",
              "      <td>-1.156922</td>\n",
              "    </tr>\n",
              "    <tr>\n",
              "      <th>...</th>\n",
              "      <td>...</td>\n",
              "      <td>...</td>\n",
              "      <td>...</td>\n",
              "      <td>...</td>\n",
              "    </tr>\n",
              "    <tr>\n",
              "      <th>2002-09-22</th>\n",
              "      <td>0.341684</td>\n",
              "      <td>-0.008541</td>\n",
              "      <td>-0.579925</td>\n",
              "      <td>1.549157</td>\n",
              "    </tr>\n",
              "    <tr>\n",
              "      <th>2002-09-23</th>\n",
              "      <td>-0.469566</td>\n",
              "      <td>-1.063891</td>\n",
              "      <td>0.836578</td>\n",
              "      <td>-1.158565</td>\n",
              "    </tr>\n",
              "    <tr>\n",
              "      <th>2002-09-24</th>\n",
              "      <td>-1.002504</td>\n",
              "      <td>-0.004228</td>\n",
              "      <td>0.250058</td>\n",
              "      <td>1.210762</td>\n",
              "    </tr>\n",
              "    <tr>\n",
              "      <th>2002-09-25</th>\n",
              "      <td>1.383442</td>\n",
              "      <td>-1.529950</td>\n",
              "      <td>0.328426</td>\n",
              "      <td>0.042432</td>\n",
              "    </tr>\n",
              "    <tr>\n",
              "      <th>2002-09-26</th>\n",
              "      <td>-1.087376</td>\n",
              "      <td>-1.471880</td>\n",
              "      <td>0.077943</td>\n",
              "      <td>-1.138092</td>\n",
              "    </tr>\n",
              "  </tbody>\n",
              "</table>\n",
              "<p>1000 rows × 4 columns</p>\n",
              "</div>"
            ],
            "text/plain": [
              "                   A         B         C         D\n",
              "2000-01-01 -0.119888  1.492225  0.133262 -0.566065\n",
              "2000-01-02  0.369595  0.624442 -0.104039 -0.876333\n",
              "2000-01-03  1.172356 -0.819494  1.431728  0.080109\n",
              "2000-01-04 -0.364053  0.617033  1.831509 -1.609905\n",
              "2000-01-05 -1.391311  0.548078  0.568815 -1.156922\n",
              "...              ...       ...       ...       ...\n",
              "2002-09-22  0.341684 -0.008541 -0.579925  1.549157\n",
              "2002-09-23 -0.469566 -1.063891  0.836578 -1.158565\n",
              "2002-09-24 -1.002504 -0.004228  0.250058  1.210762\n",
              "2002-09-25  1.383442 -1.529950  0.328426  0.042432\n",
              "2002-09-26 -1.087376 -1.471880  0.077943 -1.138092\n",
              "\n",
              "[1000 rows x 4 columns]"
            ]
          },
          "metadata": {},
          "execution_count": 75
        }
      ]
    },
    {
      "cell_type": "code",
      "metadata": {
        "id": "z7c7c_-OHlA-"
      },
      "source": [
        "df=df.cumsum()"
      ],
      "execution_count": 76,
      "outputs": []
    },
    {
      "cell_type": "code",
      "metadata": {
        "colab": {
          "base_uri": "https://localhost:8080/",
          "height": 52
        },
        "id": "E3G3g8--HmWN",
        "outputId": "4fbdc187-b01f-41b6-d441-9f68642180cf"
      },
      "source": [
        "plt.figure()"
      ],
      "execution_count": 77,
      "outputs": [
        {
          "output_type": "execute_result",
          "data": {
            "text/plain": [
              "<Figure size 432x288 with 0 Axes>"
            ]
          },
          "metadata": {},
          "execution_count": 77
        },
        {
          "output_type": "display_data",
          "data": {
            "text/plain": [
              "<Figure size 432x288 with 0 Axes>"
            ]
          },
          "metadata": {}
        }
      ]
    },
    {
      "cell_type": "code",
      "metadata": {
        "colab": {
          "base_uri": "https://localhost:8080/",
          "height": 295
        },
        "id": "138Bs1M2HnxV",
        "outputId": "a1cd04ee-bfc0-4ca1-887e-2870c999049a"
      },
      "source": [
        "df.plot()"
      ],
      "execution_count": 78,
      "outputs": [
        {
          "output_type": "execute_result",
          "data": {
            "text/plain": [
              "<matplotlib.axes._subplots.AxesSubplot at 0x7f22452e7150>"
            ]
          },
          "metadata": {},
          "execution_count": 78
        },
        {
          "output_type": "display_data",
          "data": {
            "image/png": "[encoded data removed]",
            "text/plain": [
              "<Figure size 432x288 with 1 Axes>"
            ]
          },
          "metadata": {
            "needs_background": "light"
          }
        }
      ]
    },
    {
      "cell_type": "code",
      "metadata": {
        "colab": {
          "base_uri": "https://localhost:8080/"
        },
        "id": "4VFsCoAlHpoa",
        "outputId": "793ec7bd-fffe-42e3-ea05-5a37ddcd0687"
      },
      "source": [
        "plt.legend(loc=\"best\")"
      ],
      "execution_count": 79,
      "outputs": [
        {
          "output_type": "stream",
          "text": [
            "No handles with labels found to put in legend.\n"
          ],
          "name": "stderr"
        },
        {
          "output_type": "execute_result",
          "data": {
            "text/plain": [
              "<matplotlib.legend.Legend at 0x7f2244d2a0d0>"
            ]
          },
          "metadata": {},
          "execution_count": 79
        },
        {
          "output_type": "display_data",
          "data": {
            "image/png": "[encoded data removed]",
            "text/plain": [
              "<Figure size 432x288 with 1 Axes>"
            ]
          },
          "metadata": {
            "needs_background": "light"
          }
        }
      ]
    },
    {
      "cell_type": "code",
      "metadata": {
        "id": "7t_QObbcHq4A"
      },
      "source": [
        ""
      ],
      "execution_count": null,
      "outputs": []
    }
  ]
}