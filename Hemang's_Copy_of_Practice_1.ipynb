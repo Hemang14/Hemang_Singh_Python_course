{
  "nbformat": 4,
  "nbformat_minor": 0,
  "metadata": {
    "colab": {
      "name": "Hemang's Copy of Practice 1.ipynb",
      "provenance": [],
      "collapsed_sections": [],
      "include_colab_link": true
    },
    "kernelspec": {
      "name": "python3",
      "display_name": "Python 3"
    },
    "language_info": {
      "name": "python"
    }
  },
  "cells": [
    {
      "cell_type": "markdown",
      "metadata": {
        "id": "view-in-github",
        "colab_type": "text"
      },
      "source": [
        "<a href=\"https://colab.research.google.com/github/Hemang14/Hemang_Singh_Python_course/blob/main/Hemang's_Copy_of_Practice_1.ipynb\" target=\"_parent\"><img src=\"https://colab.research.google.com/assets/colab-badge.svg\" alt=\"Open In Colab\"/></a>"
      ]
    },
    {
      "cell_type": "markdown",
      "metadata": {
        "id": "sSHNWVwQ0Z2w"
      },
      "source": [
        "Practice assignment 1 \n",
        "---                                                       \n",
        "To get started with some simple code execution, please carry out the following operations.For each operation, create a new code cell\n",
        "1. Take a variable `a`, and a variable `b`. Assign some values to them, find their sum, product, difference, quotient, remainder and find a to the power of b(`a^b`)  \n",
        "\n"
      ]
    },
    {
      "cell_type": "code",
      "metadata": {
        "id": "8_C4ol-T0gGS",
        "colab": {
          "base_uri": "https://localhost:8080/"
        },
        "outputId": "2b449bdb-6533-4e63-cfb4-664a006821d0"
      },
      "source": [
        "a=4\n",
        "b=12\n",
        "print(a+b)\n",
        "print(a*b)\n",
        "print(a-b)\n",
        "print(a/b)\n",
        "print(a%b)\n",
        "print(a**b)\n",
        "\n"
      ],
      "execution_count": null,
      "outputs": [
        {
          "output_type": "stream",
          "text": [
            "16\n",
            "48\n",
            "-8\n",
            "0.3333333333333333\n",
            "4\n",
            "16777216\n"
          ],
          "name": "stdout"
        }
      ]
    },
    {
      "cell_type": "markdown",
      "metadata": {
        "id": "AtJvlbpi454J"
      },
      "source": [
        "2. After execution, now take external input from user using the `input()` keyword. Take input for String, and a number. Do the following: \n",
        "  1. Concat the two data types into a variable `c`. "
      ]
    },
    {
      "cell_type": "code",
      "metadata": {
        "id": "ITPw8wPJ5AsG",
        "colab": {
          "base_uri": "https://localhost:8080/"
        },
        "outputId": "ce1b4263-00ba-49ed-fe3d-e7fcefd13d66"
      },
      "source": [
        "st = input(\"Enter string:\")\n",
        "num = input(\"Enter number:\")\n",
        "a = st+\" \"+num\n",
        "print(a)"
      ],
      "execution_count": null,
      "outputs": [
        {
          "output_type": "stream",
          "text": [
            "Enter string:Hey\n",
            "Enter number:14\n",
            "Hey 14\n"
          ],
          "name": "stdout"
        }
      ]
    },
    {
      "cell_type": "markdown",
      "metadata": {
        "id": "4Q4W4Y975dsq"
      },
      "source": [
        "2. Perform multiplication of the 2 data types, store it in `d`. Find data type of variable `d` and print it. "
      ]
    },
    {
      "cell_type": "code",
      "metadata": {
        "id": "a1uOt6CS5iAE",
        "colab": {
          "base_uri": "https://localhost:8080/"
        },
        "outputId": "8ff52493-c491-489e-9e4c-5a5c34e81338"
      },
      "source": [
        "a =2\n",
        "b= 1.4\n",
        "c=a*b\n",
        "print(type(c),c)\n"
      ],
      "execution_count": null,
      "outputs": [
        {
          "output_type": "stream",
          "text": [
            "<class 'float'> 2.8\n"
          ],
          "name": "stdout"
        }
      ]
    },
    {
      "cell_type": "markdown",
      "metadata": {
        "id": "XKEwMYrz5m9c"
      },
      "source": [
        "3. Take input of 2 strings. Perform concatination of those strings using the `+` operator and the `,` operator."
      ]
    },
    {
      "cell_type": "code",
      "metadata": {
        "id": "ZLM1tmT35qI_",
        "colab": {
          "base_uri": "https://localhost:8080/"
        },
        "outputId": "c207eeef-9d54-4dc6-a3e1-aa66bff3cb89"
      },
      "source": [
        "str1=input(\"enter string\\n\")\n",
        "str2=input(\"enter string\\n\")\n",
        "print(str1+str2)\n",
        "print(str1,str2)"
      ],
      "execution_count": null,
      "outputs": [
        {
          "output_type": "stream",
          "text": [
            "enter string\n",
            "Hey\n",
            "enter string\n",
            "Hemang\n",
            "HeyHemang\n",
            "Hey Hemang\n"
          ],
          "name": "stdout"
        }
      ]
    },
    {
      "cell_type": "markdown",
      "metadata": {
        "id": "6co_8dPL5-_M"
      },
      "source": [
        "4. Take input of number and string. Concat the 2 variables and print the output."
      ]
    },
    {
      "cell_type": "code",
      "metadata": {
        "id": "K4oB9r9s6WRx",
        "colab": {
          "base_uri": "https://localhost:8080/"
        },
        "outputId": "b66e0bb8-4e1a-4b7f-9a0b-094aa620a825"
      },
      "source": [
        "num =input(\"Enter the integer:\")\n",
        "str1 =input(\"Enter the string:\")\n",
        "a =num +\" \"+str1\n",
        "print(a)"
      ],
      "execution_count": null,
      "outputs": [
        {
          "output_type": "stream",
          "text": [
            "Enter the integer:12\n",
            "Enter the string:hola\n",
            "12 hola\n"
          ],
          "name": "stdout"
        }
      ]
    },
    {
      "cell_type": "markdown",
      "metadata": {
        "id": "E3OdFmn17BIP"
      },
      "source": [
        "For the code below, give an input such that you will get an error all the time\n",
        "---"
      ]
    },
    {
      "cell_type": "code",
      "metadata": {
        "id": "oHwsb3mV7NZF",
        "colab": {
          "base_uri": "https://localhost:8080/"
        },
        "outputId": "b5a0dcef-6629-4e2e-b50c-ec66bcfbf533"
      },
      "source": [
        "x=(input(\"Enter number for x: \"))\n",
        "y=(input(\"Enter number for y: \"))\n",
        "if x==y: \n",
        "  print(\"x and y are equal\")\n",
        "  if y!= 0:\n",
        "    print(\"thus x/y is\",x//y)\n",
        "elif x<y: \n",
        "  print(\"x is smaller\")\n",
        "else:\n",
        "  print(\"y is smaller\")\n",
        "print(\"thanks\")"
      ],
      "execution_count": null,
      "outputs": [
        {
          "output_type": "stream",
          "text": [
            "Enter number for x: 12\n",
            "Enter number for y: 0.4\n",
            "y is smaller\n",
            "thanks\n"
          ],
          "name": "stdout"
        }
      ]
    },
    {
      "cell_type": "markdown",
      "metadata": {
        "id": "tP8L8lWv7Uuu"
      },
      "source": [
        "In the above code, now make the modification such that the input is of string data type, and instead of performing `x/y` modify that to finding the quotient of their ascii values. Eg: string `hello` has the ascii values `104 101 108 108 111`.  If `x < y` then concat the two strings. If `x > y` then take a number `n` and then print the concated string `n` times. "
      ]
    },
    {
      "cell_type": "code",
      "metadata": {
        "id": "J_5hH0lC-V14",
        "colab": {
          "base_uri": "https://localhost:8080/"
        },
        "outputId": "84c0cd51-8eb6-48a8-f111-99a6ea8e12c4"
      },
      "source": [
        "x= input(\"Enter a character: \")\n",
        "y= input('Enter another character: ')\n",
        "if x==y:\n",
        "  print(\"x and y are equal\")\n",
        "  d=[ord(c) for c in x]\n",
        "  print(d)\n",
        "elif x<y:\n",
        "  print(x+\" \"+y)\n",
        "else:\n",
        "  n=input(\"any number: \")\n",
        "  print((x+\" \"+y)*n)"
      ],
      "execution_count": null,
      "outputs": [
        {
          "output_type": "stream",
          "text": [
            "Enter a character: hello\n",
            "Enter another character: hello\n",
            "x and y are equal\n",
            "[104, 101, 108, 108, 111]\n"
          ],
          "name": "stdout"
        }
      ]
    },
    {
      "cell_type": "markdown",
      "metadata": {
        "id": "SacUr4KU_iGF"
      },
      "source": [
        "<hr/>\n",
        "\n",
        "\n",
        "Complete the code below. In case it's helpful, here is the table of available arithmetic operations:\n",
        "\n",
        "\n",
        "\n",
        "| Operator     | Name           | Description                                            |\n",
        "|--------------|----------------|--------------------------------------------------------|\n",
        "| ``a + b``    | Addition       | Sum of ``a`` and ``b``                                 |\n",
        "| ``a - b``    | Subtraction    | Difference of ``a`` and ``b``                          |\n",
        "| ``a * b``    | Multiplication | Product of ``a`` and ``b``                             |\n",
        "| ``a / b``    | True division  | Quotient of ``a`` and ``b``                            |\n",
        "| ``a // b``   | Floor division | Quotient of ``a`` and ``b``, removing fractional parts |\n",
        "| ``a % b``    | Modulus        | Integer remainder after division of ``a`` by ``b``     |\n",
        "| ``a ** b``   | Exponentiation | ``a`` raised to the power of ``b``                     |\n",
        "| ``-a``       | Negation       | The negative of ``a``                                  |\n",
        "\n",
        "<span style=\"display:none\"></span>"
      ]
    },
    {
      "cell_type": "code",
      "metadata": {
        "id": "FNz8mH7l_lSo",
        "colab": {
          "base_uri": "https://localhost:8080/"
        },
        "outputId": "3d7b86ea-cbf8-4a8b-b504-468b07564de0"
      },
      "source": [
        "pi = 3.14159 # approximate\n",
        "diameter = 4\n",
        "\n",
        "# Create a variable called 'radius' equal to half the diameter\n",
        "radius = diameter/2\n",
        "\n",
        "# Create a variable called 'area', using the formula for the area of a circle: pi times the radius square\n",
        "area= pi * (radius**2)\n",
        "print(area)"
      ],
      "execution_count": null,
      "outputs": [
        {
          "output_type": "stream",
          "text": [
            "12.56636\n"
          ],
          "name": "stdout"
        }
      ]
    },
    {
      "cell_type": "markdown",
      "metadata": {
        "id": "VWn1rI2gAC4r"
      },
      "source": [
        "<hr/>\n",
        "\n",
        "\n",
        "\n",
        "Add code to the following cell to swap variables `a` and `b` (so that `a` refers to the object previously referred to by `b` and vice versa)."
      ]
    },
    {
      "cell_type": "code",
      "metadata": {
        "id": "5Hz-A33RAFMc",
        "colab": {
          "base_uri": "https://localhost:8080/"
        },
        "outputId": "6644cbb8-310e-4e58-9359-eef17b80233e"
      },
      "source": [
        "a = 14\n",
        "b = 22\n",
        "temp = a\n",
        "a = b\n",
        "b = temp\n",
        "print(\"the numbers after swapping is a=\",a,\"b=\",b )"
      ],
      "execution_count": null,
      "outputs": [
        {
          "output_type": "stream",
          "text": [
            "the numbers after swapping is a= 22 b= 14\n"
          ],
          "name": "stdout"
        }
      ]
    },
    {
      "cell_type": "markdown",
      "metadata": {
        "id": "oboBArAqAVjf"
      },
      "source": [
        "Add parentheses to the following expression so that it evaluates to 1."
      ]
    },
    {
      "cell_type": "code",
      "metadata": {
        "id": "yIuisxWqAiaL",
        "colab": {
          "base_uri": "https://localhost:8080/"
        },
        "outputId": "fbbded40-243c-460f-e0f6-5961631f3b60"
      },
      "source": [
        "(5-3)//2"
      ],
      "execution_count": null,
      "outputs": [
        {
          "output_type": "execute_result",
          "data": {
            "text/plain": [
              "1"
            ]
          },
          "metadata": {
            "tags": []
          },
          "execution_count": 20
        }
      ]
    },
    {
      "cell_type": "markdown",
      "metadata": {
        "id": "4wO3nGQhAlHv"
      },
      "source": [
        "Add parentheses to the following expression so that it evaluates to 0."
      ]
    },
    {
      "cell_type": "code",
      "metadata": {
        "id": "g2CeM1PSAt3a",
        "colab": {
          "base_uri": "https://localhost:8080/"
        },
        "outputId": "b45cbc4d-8d8c-46df-d50e-9b3e8ec8b02b"
      },
      "source": [
        "8-(3*2)-1+1"
      ],
      "execution_count": null,
      "outputs": [
        {
          "output_type": "execute_result",
          "data": {
            "text/plain": [
              "2"
            ]
          },
          "metadata": {
            "tags": []
          },
          "execution_count": 21
        }
      ]
    },
    {
      "cell_type": "markdown",
      "metadata": {
        "id": "E7NqRPo6BBev"
      },
      "source": [
        "A, B and C have agreed to pool their Halloween candy and split it evenly among themselves.\n",
        "For the sake of their friendship, any candies left over will be smashed. For example, if they collectively\n",
        "bring home 91 candies, they'll take 30 each and smash 1.\n",
        "\n",
        "Write an arithmetic expression below to calculate how many candies they must smash for a given haul."
      ]
    },
    {
      "cell_type": "code",
      "metadata": {
        "id": "q7UOoYeNBHVq",
        "colab": {
          "base_uri": "https://localhost:8080/"
        },
        "outputId": "51d16808-0283-45cc-eb2f-29d54d86cbca"
      },
      "source": [
        "# Variables representing the number of candies collected by alice, bob, and carol\n",
        "a = 12\n",
        "b = 8\n",
        "c = 5\n",
        "total_cand = a + b + c\n",
        "to_be_smashed = total_cand % 3\n",
        "print(\"Candies to be smashed :\",to_be_smashed)"
      ],
      "execution_count": null,
      "outputs": [
        {
          "output_type": "stream",
          "text": [
            "Candies to be smashed : 1\n"
          ],
          "name": "stdout"
        }
      ]
    },
    {
      "cell_type": "markdown",
      "metadata": {
        "id": "OJzUEowGB2Hv"
      },
      "source": [
        "# Make your game \n",
        "Like the simple game earlier, if the character moves to the right, the game doesn't end. Anything else, and the game ends. Code your own version of this game. "
      ]
    },
    {
      "cell_type": "code",
      "metadata": {
        "id": "QVlgjzogCyCW",
        "colab": {
          "base_uri": "https://localhost:8080/"
        },
        "outputId": "797f9130-abb4-4229-8d8d-060565e10438"
      },
      "source": [
        "def my_function():\n",
        "  n=input(\"********\\n    😃    \\n********\\n Go left or right \")\n",
        "  n = n.upper()\n",
        "  if n==\"RIGHT\":\n",
        "    print(\"Player Moved Right!!\")\n",
        "    my_function()\n",
        "  else:\n",
        "    print(\"Game Ended!!\")\n",
        "\n",
        "my_function()\n"
      ],
      "execution_count": null,
      "outputs": [
        {
          "output_type": "stream",
          "text": [
            "********\n",
            "    😃    \n",
            "********\n",
            " Go left or right right\n",
            "Player Moved Right!!\n",
            "********\n",
            "    😃    \n",
            "********\n",
            " Go left or right right\n",
            "Player Moved Right!!\n",
            "********\n",
            "    😃    \n",
            "********\n",
            " Go left or right left\n",
            "Game Ended!!\n"
          ],
          "name": "stdout"
        }
      ]
    }
  ]
}